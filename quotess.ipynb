{
 "cells": [
  {
   "cell_type": "code",
   "execution_count": 1,
   "id": "84f8d8b0",
   "metadata": {},
   "outputs": [],
   "source": [
    "import requests\n",
    "from bs4 import BeautifulSoup\n",
    "base_url = \"http://quotes.toscrape.com/\"\n",
    "\n",
    "def parse_quote_page(url):\n",
    "    \"\"\" Used to parse the parse the webpage and return a beautiful soup object\"\"\"\n",
    "    quote_url = url\n",
    "    response = requests.get(quote_url)\n",
    "    if response.status_code != 200:\n",
    "        print('Status code:', response.status_code)\n",
    "        raise Exception('Failed to fetch web page ' + quote_url)\n",
    "    return BeautifulSoup(response.text)"
   ]
  },
  {
   "cell_type": "code",
   "execution_count": 2,
   "id": "9703ccb2",
   "metadata": {},
   "outputs": [],
   "source": [
    "def get_top_quotes(doc):\n",
    "    \"\"\" Used to extract all the top quotes in the given webpage\"\"\"\n",
    "    quotes = doc.find_all('div', class_='quote')\n",
    "    parsed_quotes = [parse_each_quotes(quote_html) for quote_html in quotes]\n",
    "    return parsed_quotes\n",
    "\n",
    "def parse_each_quotes(quote_html):\n",
    "    \"\"\" Extract the specific information from each quote tag. \"\"\"\n",
    "    quote_tag = quote_html.find('span', class_='text')\n",
    "    quote = quote_tag.get_text().strip('')\n",
    "    author_tag = quote_html.find('small', class_='author')\n",
    "    author = author_tag.get_text().strip()\n",
    "    about_tag = quote_html.find_all('a')[0]\n",
    "    about = base_url + about_tag['href']\n",
    "    tags = quote_html.find_all('a')\n",
    "    tag = ''\n",
    "    for i in range(1, len(tags)):\n",
    "        tag += tags[i].get_text() + \" \"\n",
    "\n",
    "    tag = tag.strip()\n",
    "    return {\"quote\": quote, \"author\": author, \"about\": about, \"related_tags\": tag}"
   ]
  },
  {
   "cell_type": "code",
   "execution_count": 3,
   "id": "8e2a7adb",
   "metadata": {},
   "outputs": [],
   "source": [
    "def write_csv(items, path):\n",
    "    \"\"\" Write the extracted dictionary to a csv file\"\"\"\n",
    "    with open('quotes-scraped.csv', 'a+') as f:\n",
    "        if len(items) == 0:\n",
    "            return\n",
    "        headers = list(items[0].keys())\n",
    "        for item in items:\n",
    "            values = []\n",
    "            for header in headers:\n",
    "                values.append(str(item.get(header, \"\")))\n",
    "            f.write(','.join(values) + \"\\n\")"
   ]
  },
  {
   "cell_type": "code",
   "execution_count": 4,
   "id": "1cb92254",
   "metadata": {},
   "outputs": [],
   "source": [
    "def scrape_by_url(url, path):\n",
    "    \"\"\" Helper function to scrape all the quotes by URL.\"\"\"\n",
    "    \n",
    "    quote_doc = parse_quote_page(url)\n",
    "    top_quotes = get_top_quotes(quote_doc)\n",
    "    write_csv(top_quotes, path)\n",
    "    return quote_doc\n",
    "\n",
    "def scrape_quotes(tag, path=None):\n",
    "    \"\"\"Scrape quotes by tag and write them to csv file.\"\"\"\n",
    "    if path is None:\n",
    "        path = tag + '.csv'\n",
    "    url = base_url + \"tag/\" + tag\n",
    "    first_doc = scrape_by_url(url, path)\n",
    "    next_pages = first_doc.find_all('li', class_=\"next\")\n",
    "    while True:\n",
    "        if next_pages:\n",
    "            #so if there are more pages to scrape from the website, navigate to next page.\n",
    "            url = base_url + next_pages[0].a['href']\n",
    "            next_doc = scrape_by_url(url, path)\n",
    "            next_pages = next_doc.find_all('li', class_=\"next\")\n",
    "        else:\n",
    "            break\n",
    "    print('Top quotes for tag \"{}\" written to file quotes.csv'.format(tag))\n",
    "    return 'quotes-scraped.csv'\n",
    "\n",
    "with open('quotes-scraped.csv', 'a+') as f:\n",
    "    f.write('quote,author,about,related_tags' + '\\n')"
   ]
  },
  {
   "cell_type": "code",
   "execution_count": 5,
   "id": "a80eaff6",
   "metadata": {},
   "outputs": [
    {
     "name": "stdout",
     "output_type": "stream",
     "text": [
      "Top quotes for tag \"love\" written to file quotes.csv\n"
     ]
    },
    {
     "data": {
      "text/plain": [
       "'quotes-scraped.csv'"
      ]
     },
     "execution_count": 5,
     "metadata": {},
     "output_type": "execute_result"
    }
   ],
   "source": [
    "scrape_quotes('love')"
   ]
  },
  {
   "cell_type": "code",
   "execution_count": 6,
   "id": "17e5640f",
   "metadata": {},
   "outputs": [
    {
     "name": "stdout",
     "output_type": "stream",
     "text": [
      "Top quotes for tag \"inspirational\" written to file quotes.csv\n"
     ]
    },
    {
     "data": {
      "text/plain": [
       "'quotes-scraped.csv'"
      ]
     },
     "execution_count": 6,
     "metadata": {},
     "output_type": "execute_result"
    }
   ],
   "source": [
    "scrape_quotes('inspirational')\n"
   ]
  },
  {
   "cell_type": "code",
   "execution_count": 7,
   "id": "9d7f8cb9",
   "metadata": {},
   "outputs": [
    {
     "name": "stdout",
     "output_type": "stream",
     "text": [
      "Top quotes for tag \"life\" written to file quotes.csv\n"
     ]
    },
    {
     "data": {
      "text/plain": [
       "'quotes-scraped.csv'"
      ]
     },
     "execution_count": 7,
     "metadata": {},
     "output_type": "execute_result"
    }
   ],
   "source": [
    "scrape_quotes('life')"
   ]
  },
  {
   "cell_type": "code",
   "execution_count": 8,
   "id": "efd65865",
   "metadata": {},
   "outputs": [
    {
     "name": "stdout",
     "output_type": "stream",
     "text": [
      "Top quotes for tag \"humor\" written to file quotes.csv\n"
     ]
    },
    {
     "data": {
      "text/plain": [
       "'quotes-scraped.csv'"
      ]
     },
     "execution_count": 8,
     "metadata": {},
     "output_type": "execute_result"
    }
   ],
   "source": [
    "scrape_quotes('humor')"
   ]
  },
  {
   "cell_type": "code",
   "execution_count": 9,
   "id": "37366210",
   "metadata": {},
   "outputs": [
    {
     "name": "stdout",
     "output_type": "stream",
     "text": [
      "quote,author,about,related_tags\n",
      "\n",
      "“It is better to be hated for what you are than to be loved for what you are not.”,André Gide,http://quotes.toscrape.com//author/Andre-Gide,life love\n",
      "\n",
      "“This life is what you make it. No matter what, you're going to mess up sometimes, it's a universal truth. But the good part is you get to decide how you're going to mess it up. Girls will be your friends - they'll act like it anyway. But just remember, some come, some go. The ones that stay with you through everything - they're your true best friends. Don't let go of them. Also remember, sisters make the best friends in the world. As for lovers, well, they'll come and go too. And baby, I hate to say it, most of them - actually pretty much all of them are going to break your heart, but you can't give up because if you give up, you'll never find your soulmate. You'll never find that half who makes you whole and that goes for everything. Just because you fail once, doesn't mean you're gonna fail at everything. Keep trying, hold on, and always, always, always believe in yourself, because if you don't, then who will, sweetie? So keep your head high, keep your chin up, and most importantly, keep smiling, because life's a beautiful thing and there's so much to smile about.”,Marilyn Monroe,http://quotes.toscrape.com//author/Marilyn-Monroe,friends heartbreak inspirational life love sisters\n",
      "\n",
      "“You may not be her first, her last, or her only. She loved before she may love again. But if she loves you now, what else matters? She's not perfect—you aren't either, and the two of you may never be perfect together but if she can make you laugh, cause you to think twice, and admit to being human and making mistakes, hold onto her and give her the most you can. She may not be thinking about you every second of the day, but she will give you a part of her that she knows you can break—her heart. So don't hurt her, don't change her, don't analyze and don't expect more than she can give. Smile when she makes you happy, let her know when she makes you mad, and miss her when she's not there.”,Bob Marley,http://quotes.toscrape.com//author/Bob-Marley,love\n",
      "\n",
      "“The opposite of love is not hate, it's indifference. The opposite of art is not ugliness, it's indifference. The opposite of faith is not heresy, it's indifference. And the opposite of life is not death, it's indifference.”,Elie Wiesel,http://quotes.toscrape.com//author/Elie-Wiesel,activism apathy hate indifference inspirational love opposite philosophy\n",
      "\n"
     ]
    }
   ],
   "source": [
    "with open('quotes-scraped.csv', 'r') as f:\n",
    "    for i in range(5):\n",
    "        print(f.readline())"
   ]
  },
  {
   "cell_type": "code",
   "execution_count": 10,
   "id": "1297f726",
   "metadata": {},
   "outputs": [
    {
     "ename": "NameError",
     "evalue": "name 'jovian' is not defined",
     "output_type": "error",
     "traceback": [
      "\u001b[1;31m---------------------------------------------------------------------------\u001b[0m",
      "\u001b[1;31mNameError\u001b[0m                                 Traceback (most recent call last)",
      "\u001b[1;32m~\\AppData\\Local\\Temp/ipykernel_12952/143378251.py\u001b[0m in \u001b[0;36m<module>\u001b[1;34m\u001b[0m\n\u001b[1;32m----> 1\u001b[1;33m \u001b[0mjovian\u001b[0m\u001b[1;33m.\u001b[0m\u001b[0mcommit\u001b[0m\u001b[1;33m(\u001b[0m\u001b[0mfiles\u001b[0m\u001b[1;33m=\u001b[0m\u001b[1;33m[\u001b[0m\u001b[1;34m'quotes-scraped.csv'\u001b[0m\u001b[1;33m]\u001b[0m\u001b[1;33m)\u001b[0m\u001b[1;33m\u001b[0m\u001b[1;33m\u001b[0m\u001b[0m\n\u001b[0m",
      "\u001b[1;31mNameError\u001b[0m: name 'jovian' is not defined"
     ]
    }
   ],
   "source": [
    "jovian.commit(files=['quotes-scraped.csv'])"
   ]
  },
  {
   "cell_type": "code",
   "execution_count": 11,
   "id": "d1b7d61a",
   "metadata": {},
   "outputs": [
    {
     "ename": "SyntaxError",
     "evalue": "invalid syntax (Temp/ipykernel_12952/87796369.py, line 24)",
     "output_type": "error",
     "traceback": [
      "\u001b[1;36m  File \u001b[1;32m\"C:\\Users\\rohit\\AppData\\Local\\Temp/ipykernel_12952/87796369.py\"\u001b[1;36m, line \u001b[1;32m24\u001b[0m\n\u001b[1;33m    print len(urllinks)\u001b[0m\n\u001b[1;37m          ^\u001b[0m\n\u001b[1;31mSyntaxError\u001b[0m\u001b[1;31m:\u001b[0m invalid syntax\n"
     ]
    }
   ],
   "source": [
    "\n",
    "\n",
    "print len(urllinks)\n",
    "    \n",
    "URL2 = \"https://www.brainyquote.com\"\n",
    "\n",
    "quotes=[]  # a list to store quotes\n",
    "\n",
    "csvfile = \"quotesbrainy.csv\"\n",
    "\n",
    "curr =0\n",
    "for ul in urllinks[0:]:\n",
    "    r2 = requests.get(URL2 + ul)\n",
    "    soup2 = BeautifulSoup(r2.content, 'html5lib')\n",
    "    winner = [a.text for a in soup2.find_all('a', style = {'title':'view quote'})]\n",
    "    print \"Done topic\" , curr,\"/\", len(urllinks)\n",
    "    #for k in range(len(winner)):\n",
    "        #quotes.append(winner[k])\n",
    "    print \"moving to csv\"\n",
    "    with open(csvfile, \"a\") as output:\n",
    "        writer = csv.writer(output, lineterminator='\\n')\n",
    "        for val in winner:\n",
    "            writer.writerow([val]) \n",
    "            print val\n",
    "    curr+=1\n",
    "    sleep(1)"
   ]
  },
  {
   "cell_type": "code",
   "execution_count": 12,
   "id": "d6bd26d1",
   "metadata": {},
   "outputs": [],
   "source": [
    "from bs4 import BeautifulSoup\n",
    "import csv\n",
    "import requests\n",
    "from time import sleep"
   ]
  },
  {
   "cell_type": "code",
   "execution_count": 13,
   "id": "363deba9",
   "metadata": {},
   "outputs": [],
   "source": [
    "\n",
    "r  = requests.get(\"https://www.brainyquote.com/quotes/topics.html\")\n",
    "\n",
    "data = r.content\n",
    "\n",
    "soup = BeautifulSoup(data,'html5lib')"
   ]
  },
  {
   "cell_type": "code",
   "execution_count": 14,
   "id": "18154880",
   "metadata": {},
   "outputs": [],
   "source": [
    "\n",
    "finddiv = soup.find_all('div', attrs={'class':'bqLn'})"
   ]
  },
  {
   "cell_type": "code",
   "execution_count": 15,
   "id": "4e026d1d",
   "metadata": {},
   "outputs": [],
   "source": [
    "\n",
    "urllinks =[]\n",
    "\n",
    "for links in finddiv:\n",
    "    l = links.find_all(\"a\")\n",
    "    urls = [x.get(\"href\") for x in l]\n",
    "    for i in range(len(urls)):\n",
    "        urllinks.append(urls[i])"
   ]
  },
  {
   "cell_type": "code",
   "execution_count": 16,
   "id": "030cca93",
   "metadata": {},
   "outputs": [
    {
     "data": {
      "text/plain": [
       "0"
      ]
     },
     "execution_count": 16,
     "metadata": {},
     "output_type": "execute_result"
    }
   ],
   "source": [
    "len(urllinks)"
   ]
  },
  {
   "cell_type": "code",
   "execution_count": 19,
   "id": "b58c0018",
   "metadata": {},
   "outputs": [],
   "source": [
    "URL2 = \"https://www.brainyquote.com\"\n",
    "\n",
    "quotes=[]  # a list to store quotes\n",
    "\n",
    "csvfile = \"quotesbrainy.csv\"\n",
    "\n",
    "curr =0\n",
    "for ul in urllinks[0:]:\n",
    "    r2 = requests.get(URL2 + ul)\n",
    "    soup2 = BeautifulSoup(r2.content, 'html5lib')\n",
    "    winner = [a.text for a in soup2.find_all('a', style = {'title':'view quote'})]\n",
    "    len(urllinks)\n",
    "    #for k in range(len(winner)):\n",
    "        #quotes.append(winner[k])\n",
    "    \n",
    "    with open(csvfile, \"a\") as output:\n",
    "        writer = csv.writer(output, lineterminator='\\n')\n",
    "        for val in winner:\n",
    "            writer.writerow([val]) \n",
    "            print( val)\n",
    "    curr+=1\n",
    "    sleep(1)"
   ]
  },
  {
   "cell_type": "code",
   "execution_count": null,
   "id": "d98c10d3",
   "metadata": {},
   "outputs": [],
   "source": []
  }
 ],
 "metadata": {
  "kernelspec": {
   "display_name": "Python 3 (ipykernel)",
   "language": "python",
   "name": "python3"
  },
  "language_info": {
   "codemirror_mode": {
    "name": "ipython",
    "version": 3
   },
   "file_extension": ".py",
   "mimetype": "text/x-python",
   "name": "python",
   "nbconvert_exporter": "python",
   "pygments_lexer": "ipython3",
   "version": "3.9.7"
  }
 },
 "nbformat": 4,
 "nbformat_minor": 5
}
