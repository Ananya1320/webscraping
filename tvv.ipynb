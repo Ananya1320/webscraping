{
 "cells": [
  {
   "cell_type": "code",
   "execution_count": 1,
   "id": "44367859",
   "metadata": {},
   "outputs": [],
   "source": [
    "import requests\n",
    "from bs4 import BeautifulSoup\n",
    "response = requests.get(\"https://www.themoviedb.org/tv\")\n",
    "base_url = \"http://quotes.toscrape.com/\"\n",
    "\n",
    "def parse_quote_page(url):\n",
    "    \"\"\" Used to parse the parse the webpage and return a beautiful soup object\"\"\"\n",
    "    quote_url = url\n",
    "    response = requests.get(quote_url)\n",
    "    if response.status_code != 200:\n",
    "        print('Status code:', response.status_code)\n",
    "        raise Exception('Failed to fetch web page ' + quote_url)\n",
    "    return BeautifulSoup(response.text)"
   ]
  },
  {
   "cell_type": "code",
   "execution_count": 2,
   "id": "4fdffeaa",
   "metadata": {},
   "outputs": [],
   "source": [
    "import requests\n",
    "from bs4 import BeautifulSoup\n",
    "needed_headers = {'User-Agent': \"Mozilla/5.0 (Windows NT 6.3; Win64; x64) AppleWebKit/537.36 (KHTML, like Gecko) Chrome/92.0.4515.131 Safari/537.36\"}\n",
    "response = requests.get(\"https://www.themoviedb.org/tv\", headers = needed_headers)"
   ]
  },
  {
   "cell_type": "code",
   "execution_count": 3,
   "id": "1e3cb5a3",
   "metadata": {},
   "outputs": [
    {
     "data": {
      "text/plain": [
       "200"
      ]
     },
     "execution_count": 3,
     "metadata": {},
     "output_type": "execute_result"
    }
   ],
   "source": [
    "response.status_code"
   ]
  },
  {
   "cell_type": "code",
   "execution_count": 4,
   "id": "96fcaa8a",
   "metadata": {},
   "outputs": [
    {
     "data": {
      "text/plain": [
       "200997"
      ]
     },
     "execution_count": 4,
     "metadata": {},
     "output_type": "execute_result"
    }
   ],
   "source": [
    "dwn_content = response.text\n",
    "len(dwn_content)"
   ]
  },
  {
   "cell_type": "code",
   "execution_count": 5,
   "id": "9484a075",
   "metadata": {},
   "outputs": [
    {
     "data": {
      "text/plain": [
       "'<!DOCTYPE html>\\n<html lang=\"en\" class=\"no-js\">\\n  <head>\\n    <title>Popular TV Shows &#8212; The Movie Database (TMDB)</title>\\n    <meta http-equiv=\"X-UA-Compatible\" content=\"IE=edge\" />\\n    <meta http-equiv=\"cleartype\" content=\"on\">\\n    <meta charset=\"utf-8\">\\n    <meta name=\"keywords\" content=\"Movies, TV Shows, Streaming, Reviews, API, Actors, Actresses, Photos, User Ratings, Synopsis, Trailers, Teasers, Credits, Cast\">\\n    <meta name=\"mobile-web-app-capable\" content=\"yes\">\\n    <meta name=\"apple'"
      ]
     },
     "execution_count": 5,
     "metadata": {},
     "output_type": "execute_result"
    }
   ],
   "source": [
    "dwn_content[:500]"
   ]
  },
  {
   "cell_type": "code",
   "execution_count": 6,
   "id": "061aece3",
   "metadata": {},
   "outputs": [
    {
     "data": {
      "text/plain": [
       "bs4.BeautifulSoup"
      ]
     },
     "execution_count": 6,
     "metadata": {},
     "output_type": "execute_result"
    }
   ],
   "source": [
    "test_doc = BeautifulSoup(response.text, 'html.parser')\n",
    "type(test_doc)"
   ]
  },
  {
   "cell_type": "code",
   "execution_count": 7,
   "id": "ca2b3e71",
   "metadata": {},
   "outputs": [
    {
     "data": {
      "text/plain": [
       "<title>Popular TV Shows — The Movie Database (TMDB)</title>"
      ]
     },
     "execution_count": 7,
     "metadata": {},
     "output_type": "execute_result"
    }
   ],
   "source": [
    "test_doc.find('title')"
   ]
  },
  {
   "cell_type": "code",
   "execution_count": 8,
   "id": "15409bf6",
   "metadata": {},
   "outputs": [
    {
     "data": {
      "text/plain": [
       "<img alt=\"The Movie Database (TMDB)\" height=\"20\" src=\"/assets/2/v4/logos/v2/blue_short-8e7b30f73a4020692ccca9c88bafe5dcb6f8a62a4c6bc55cd9ba82bb2cd95f6c.svg\" width=\"154\"/>"
      ]
     },
     "execution_count": 8,
     "metadata": {},
     "output_type": "execute_result"
    }
   ],
   "source": [
    "test_doc.find('img')"
   ]
  },
  {
   "cell_type": "code",
   "execution_count": 9,
   "id": "8d8bd59d",
   "metadata": {},
   "outputs": [],
   "source": [
    "def get_page_content(url):\n",
    "    # In this case , we are going to give request.get function headers to avoid the Status code Error 403\n",
    "\n",
    "    get_headers = {'User-Agent': \"Mozilla/5.0 (Windows NT 6.3; Win64; x64) AppleWebKit/537.36 (KHTML, like Gecko) Chrome/92.0.4515.131 Safari/537.36\"}\n",
    "    response_page = requests.get(url, headers = get_headers )\n",
    "    # we are going to raise exception here if status code gives any value other than 200.\n",
    "    if not response_page.ok:\n",
    "        raise Exception (\"Failed to request the data. Status Code:- {}\".format(response_page.status_code))\n",
    "    else:\n",
    "        page_content = response_page.text\n",
    "        doc_page = BeautifulSoup(page_content, \"html.parser\")\n",
    "        return doc_page"
   ]
  },
  {
   "cell_type": "code",
   "execution_count": 10,
   "id": "7de80b9a",
   "metadata": {},
   "outputs": [],
   "source": [
    "popular_shows_url = \"https://www.themoviedb.org/tv\"\n",
    "doc = get_page_content(popular_shows_url)"
   ]
  },
  {
   "cell_type": "code",
   "execution_count": 11,
   "id": "a9624d50",
   "metadata": {},
   "outputs": [
    {
     "data": {
      "text/plain": [
       "'Popular TV Shows — The Movie Database (TMDB)'"
      ]
     },
     "execution_count": 11,
     "metadata": {},
     "output_type": "execute_result"
    }
   ],
   "source": [
    "doc.title.text"
   ]
  },
  {
   "cell_type": "code",
   "execution_count": 12,
   "id": "546a9da0",
   "metadata": {},
   "outputs": [
    {
     "data": {
      "text/plain": [
       "'Love Island'"
      ]
     },
     "execution_count": 12,
     "metadata": {},
     "output_type": "execute_result"
    }
   ],
   "source": [
    "doc.find_all('div', {'class': 'card style_1'})[0].h2.text"
   ]
  },
  {
   "cell_type": "code",
   "execution_count": 13,
   "id": "f3a4c74e",
   "metadata": {},
   "outputs": [
    {
     "data": {
      "text/plain": [
       "'76.0'"
      ]
     },
     "execution_count": 13,
     "metadata": {},
     "output_type": "execute_result"
    }
   ],
   "source": [
    "doc.find_all('div', {'class': 'user_score_chart'})[0]['data-percent']\n"
   ]
  },
  {
   "cell_type": "code",
   "execution_count": 14,
   "id": "9e19e156",
   "metadata": {},
   "outputs": [],
   "source": [
    "def empty_dict():\n",
    "    scraped_dict = {  \n",
    "    'Title': [],\n",
    "    'User_rating': [], \n",
    "    'Release_date':[], \n",
    "    'Current_season': [],\n",
    "    'Current_season_Episodes': [], \n",
    "    'Tagline': [],\n",
    "    'Genre': [],\n",
    "    'Cast': []   \n",
    "    }\n",
    "    return scraped_dict"
   ]
  },
  {
   "cell_type": "code",
   "execution_count": 15,
   "id": "ffd07cac",
   "metadata": {},
   "outputs": [],
   "source": [
    "def user_score_info(tag_user_score, i, scraped_dict):\n",
    "    if tag_user_score[i]['data-percent'] == '0':\n",
    "        scraped_dict['User_rating'].append('Not rated yet')\n",
    "    else:\n",
    "        scraped_dict['User_rating'].append(tag_user_score[i]['data-percent'])\n"
   ]
  },
  {
   "cell_type": "code",
   "execution_count": 16,
   "id": "0750778c",
   "metadata": {},
   "outputs": [
    {
     "data": {
      "text/plain": [
       "'/tv/90521'"
      ]
     },
     "execution_count": 16,
     "metadata": {},
     "output_type": "execute_result"
    }
   ],
   "source": [
    "doc.find_all('div', {'class': 'card style_1'})[0].h2.a['href']"
   ]
  },
  {
   "cell_type": "code",
   "execution_count": 17,
   "id": "8df9c2a1",
   "metadata": {},
   "outputs": [
    {
     "data": {
      "text/plain": [
       "3"
      ]
     },
     "execution_count": 17,
     "metadata": {},
     "output_type": "execute_result"
    }
   ],
   "source": [
    "def get_show_info(doc_page):\n",
    "    base_link_1 = \"https://www.themoviedb.org\"\n",
    "    tag_title = tag_premired_date = tag_shows_page = doc_page.find_all('div', {'class': 'card style_1'})\n",
    "    tag_user_score = doc_page.find_all('div', {\"user_score_chart\"}) \n",
    "    \n",
    "    doc_2_list = []\n",
    "    for link in tag_shows_page:\n",
    "        # here we are creating the list of all the individual pages of the shows which will come handy in other functions. \n",
    "        doc_2_list.append(get_page_content(\"https://www.themoviedb.org\" + link.h2.a['href']))\n",
    "       # we are going to have the function to return the list of all the information as elements. \n",
    "    return tag_title, tag_user_score, doc_2_list\n",
    "# lets see if the function returns the list of the information we tried to get earlier. \n",
    "len(get_show_info(doc))"
   ]
  },
  {
   "cell_type": "code",
   "execution_count": 18,
   "id": "4336dfdf",
   "metadata": {},
   "outputs": [],
   "source": [
    "doc_2 = get_page_content(\"https://www.themoviedb.org/tv/91363\")\n"
   ]
  },
  {
   "cell_type": "code",
   "execution_count": 19,
   "id": "26429cfc",
   "metadata": {},
   "outputs": [
    {
     "data": {
      "text/plain": [
       "['Animation', 'Action & Adventure', 'Sci-Fi & Fantasy']"
      ]
     },
     "execution_count": 19,
     "metadata": {},
     "output_type": "execute_result"
    }
   ],
   "source": [
    "tag_genre = doc_2.find('span', {\"class\": \"genres\"})\n",
    "tag_genre_list = tag_genre.find_all('a')\n",
    "check_genre =[]\n",
    "for tag in tag_genre_list:\n",
    "    check_genre.append(tag.text)\n",
    "check_genre\n",
    "['Animation', 'Action & Adventure', 'Sci-Fi & Fantasy']"
   ]
  },
  {
   "cell_type": "code",
   "execution_count": 20,
   "id": "128aa774",
   "metadata": {},
   "outputs": [],
   "source": [
    "def get_genres(doc2_page, i):\n",
    "    genres_tags = doc2_page[i].find('span', {\"class\": \"genres\"}).find_all('a')\n",
    "    check_genre =[]\n",
    "    \n",
    "    for tag in genres_tags:\n",
    "        check_genre.append(tag.text)\n",
    "    return check_genre"
   ]
  },
  {
   "cell_type": "code",
   "execution_count": 21,
   "id": "0eb3ce4d",
   "metadata": {},
   "outputs": [],
   "source": [
    "tag_tagline = doc_2.find('h3',{\"class\": 'tagline'})\n",
    "\n",
    "def tagline_info(doc_2_list, i, scraped_dict):\n",
    "    if doc_2_list[i].find('h3',{\"class\": 'tagline'}):\n",
    "        scraped_dict['Tagline'].append(doc_2_list[i].find('h3',{\"class\": 'tagline'}).text)\n",
    "    else:\n",
    "        scraped_dict['Tagline'].append(\"No Tagline\")"
   ]
  },
  {
   "cell_type": "code",
   "execution_count": 22,
   "id": "d26189db",
   "metadata": {},
   "outputs": [],
   "source": [
    "def get_show_cast(doc2_page, i):\n",
    "    cast_tags = doc2_page[i].find_all('li', {'class': 'card'})\n",
    "    cast_lis = []\n",
    "    \n",
    "    for t in cast_tags:\n",
    "         cast_lis.append(t.p.text)\n",
    "\n",
    "    return cast_lis"
   ]
  },
  {
   "cell_type": "code",
   "execution_count": 23,
   "id": "24c6a9fd",
   "metadata": {},
   "outputs": [
    {
     "data": {
      "text/plain": [
       "'Season 1'"
      ]
     },
     "execution_count": 23,
     "metadata": {},
     "output_type": "execute_result"
    }
   ],
   "source": [
    "tag_episodes = doc_2.find_all('div' , {'class': 'flex'})\n",
    "# extracing current season from h2 tag under class flex.\n",
    "tag_episodes[1].h2.text "
   ]
  },
  {
   "cell_type": "code",
   "execution_count": 24,
   "id": "7a4a07b5",
   "metadata": {},
   "outputs": [
    {
     "name": "stdout",
     "output_type": "stream",
     "text": [
      "9 Episodes\n"
     ]
    },
    {
     "data": {
      "text/plain": [
       "'9 Episodes'"
      ]
     },
     "execution_count": 24,
     "metadata": {},
     "output_type": "execute_result"
    }
   ],
   "source": [
    "print('2021 | 9 Episodes'[7:])\n",
    "\n",
    "tag_episodes[1].h4.text[7:]"
   ]
  },
  {
   "cell_type": "code",
   "execution_count": 25,
   "id": "c14af156",
   "metadata": {},
   "outputs": [],
   "source": [
    "import pandas as pd\n",
    "\n",
    "def get_show_details(t_title, t_user_score, docs_2_list):\n",
    "    # excuting a function here that empties the dictionary every time the function is called.\n",
    "    scraped_dict =  empty_dict()\n",
    "    for i in range (0, len(t_title)):\n",
    "        scraped_dict['Title'].append(t_title[i].h2.text)\n",
    "        user_score_info(t_user_score, i, scraped_dict)    \n",
    "        scraped_dict['Release_date'].append(t_title[i].p.text)\n",
    "        scraped_dict['Current_season'].append(docs_2_list[i].find_all('div' , {'class': 'flex'})[1].h2.text)\n",
    "        scraped_dict['Current_season_Episodes'].append(docs_2_list[i].find_all('div' , {'class': 'flex'})[1].h4.text[7:])\n",
    "        tagline_info(docs_2_list, i, scraped_dict)  \n",
    "        scraped_dict['Genre'].append(get_genres(docs_2_list, i))        \n",
    "        scraped_dict['Cast'].append(get_show_cast(docs_2_list, i))\n",
    "        \n",
    "    return pd.DataFrame(scraped_dict)"
   ]
  },
  {
   "cell_type": "code",
   "execution_count": 26,
   "id": "1d6a4db9",
   "metadata": {},
   "outputs": [
    {
     "ename": "NameError",
     "evalue": "name 'tag_title' is not defined",
     "output_type": "error",
     "traceback": [
      "\u001b[1;31m---------------------------------------------------------------------------\u001b[0m",
      "\u001b[1;31mNameError\u001b[0m                                 Traceback (most recent call last)",
      "\u001b[1;32m~\\AppData\\Local\\Temp/ipykernel_10316/3954943759.py\u001b[0m in \u001b[0;36m<module>\u001b[1;34m\u001b[0m\n\u001b[1;32m----> 1\u001b[1;33m \u001b[0mx\u001b[0m \u001b[1;33m=\u001b[0m \u001b[0mget_show_details\u001b[0m\u001b[1;33m(\u001b[0m\u001b[0mtag_title\u001b[0m\u001b[1;33m,\u001b[0m \u001b[0mtag_user_score\u001b[0m\u001b[1;33m,\u001b[0m \u001b[0mdoc_2_list\u001b[0m\u001b[1;33m)\u001b[0m\u001b[1;33m\u001b[0m\u001b[1;33m\u001b[0m\u001b[0m\n\u001b[0m\u001b[0;32m      2\u001b[0m \u001b[0mx\u001b[0m\u001b[1;33m.\u001b[0m\u001b[0mto_csv\u001b[0m\u001b[1;33m(\u001b[0m\u001b[1;34m'check.csv'\u001b[0m\u001b[1;33m)\u001b[0m\u001b[1;33m\u001b[0m\u001b[1;33m\u001b[0m\u001b[0m\n\u001b[0;32m      3\u001b[0m \u001b[0mpd\u001b[0m\u001b[1;33m.\u001b[0m\u001b[0mread_csv\u001b[0m\u001b[1;33m(\u001b[0m\u001b[1;34m'check.csv'\u001b[0m\u001b[1;33m,\u001b[0m\u001b[0mindex_col\u001b[0m\u001b[1;33m=\u001b[0m\u001b[1;33m[\u001b[0m\u001b[1;36m0\u001b[0m\u001b[1;33m]\u001b[0m\u001b[1;33m)\u001b[0m\u001b[1;33m\u001b[0m\u001b[1;33m\u001b[0m\u001b[0m\n",
      "\u001b[1;31mNameError\u001b[0m: name 'tag_title' is not defined"
     ]
    }
   ],
   "source": [
    "x = get_show_details(tag_title, tag_user_score, doc_2_list)\n",
    "x.to_csv('check.csv')\n",
    "pd.read_csv('check.csv',index_col=[0])"
   ]
  },
  {
   "cell_type": "code",
   "execution_count": 27,
   "id": "252dee7a",
   "metadata": {},
   "outputs": [],
   "source": [
    "import os\n",
    "base_link = \"https://www.themoviedb.org/tv\"\n",
    "\n",
    "# 'i' here means the number of page we want to extract\n",
    "def create_page_df( i, dataframe_list):\n",
    "    os.makedirs('shows-data', exist_ok = True)\n",
    "    next_url = base_link + '?page={}'.format(i)\n",
    "    doc_top = get_page_content(next_url)\n",
    "    name_tag, viewer_score_tag, doc_2_lis = get_show_info(doc_top)\n",
    "    print('scraping page {} :- {}'.format(i, next_url))\n",
    "    dataframe_data = get_show_details(name_tag, viewer_score_tag, doc_2_lis)\n",
    "    dataframe_data.to_csv(\"shows-data/shows-page-{}.csv\".format(i) , index = None)\n",
    "    print(\" ---> a CSV file with name shows-page-{}.csv has been created\".format(i))\n",
    "    dataframe_list.append(dataframe_data)\n"
   ]
  },
  {
   "cell_type": "code",
   "execution_count": 28,
   "id": "7bab8543",
   "metadata": {},
   "outputs": [
    {
     "name": "stdout",
     "output_type": "stream",
     "text": [
      "scraping page 9 :- https://www.themoviedb.org/tv?page=9\n",
      " ---> a CSV file with name shows-page-9.csv has been created\n"
     ]
    }
   ],
   "source": [
    "test_list = []\n",
    "create_page_df(9 , test_list)"
   ]
  },
  {
   "cell_type": "code",
   "execution_count": 29,
   "id": "c5882748",
   "metadata": {},
   "outputs": [],
   "source": [
    "import pandas as pd\n",
    "base_link = \"https://www.themoviedb.org/tv\"\n",
    "\n",
    "def scrape_top_200_shows(base_link):\n",
    "    dataframe_list = []\n",
    "    # we are going to keep range up to 11 because we just need up to 200 TV shows for now. \n",
    "    for i in range(1,11):\n",
    "        create_page_df(i, dataframe_list)\n",
    "    # here we are using concat function so that we can merge the each dataframe that we got from the each page.    \n",
    "    total_dataframe = pd.concat(dataframe_list, ignore_index = True)\n",
    "    \n",
    "    # with the simple command of to_csv() we can create a csv file of all the pages we extracted.\n",
    "    csv_complete =  total_dataframe.to_csv('shows-data/Total-dataframe.csv', index= None)\n",
    "    print(\" \\n a CSV file named Total-dataframe.csv with all the scraped shows has been created\")"
   ]
  },
  {
   "cell_type": "code",
   "execution_count": 30,
   "id": "3561d85c",
   "metadata": {},
   "outputs": [
    {
     "name": "stdout",
     "output_type": "stream",
     "text": [
      "scraping page 1 :- https://www.themoviedb.org/tv?page=1\n",
      " ---> a CSV file with name shows-page-1.csv has been created\n",
      "scraping page 2 :- https://www.themoviedb.org/tv?page=2\n",
      " ---> a CSV file with name shows-page-2.csv has been created\n",
      "scraping page 3 :- https://www.themoviedb.org/tv?page=3\n",
      " ---> a CSV file with name shows-page-3.csv has been created\n",
      "scraping page 4 :- https://www.themoviedb.org/tv?page=4\n",
      " ---> a CSV file with name shows-page-4.csv has been created\n",
      "scraping page 5 :- https://www.themoviedb.org/tv?page=5\n",
      " ---> a CSV file with name shows-page-5.csv has been created\n",
      "scraping page 6 :- https://www.themoviedb.org/tv?page=6\n",
      " ---> a CSV file with name shows-page-6.csv has been created\n",
      "scraping page 7 :- https://www.themoviedb.org/tv?page=7\n",
      " ---> a CSV file with name shows-page-7.csv has been created\n",
      "scraping page 8 :- https://www.themoviedb.org/tv?page=8\n",
      " ---> a CSV file with name shows-page-8.csv has been created\n",
      "scraping page 9 :- https://www.themoviedb.org/tv?page=9\n",
      " ---> a CSV file with name shows-page-9.csv has been created\n",
      "scraping page 10 :- https://www.themoviedb.org/tv?page=10\n",
      " ---> a CSV file with name shows-page-10.csv has been created\n",
      " \n",
      " a CSV file named Total-dataframe.csv with all the scraped shows has been created\n"
     ]
    }
   ],
   "source": [
    "scrape_top_200_shows(base_link)"
   ]
  },
  {
   "cell_type": "code",
   "execution_count": 2,
   "id": "e5592cfe",
   "metadata": {},
   "outputs": [],
   "source": []
  },
  {
   "cell_type": "code",
   "execution_count": 3,
   "id": "9ecb5730",
   "metadata": {},
   "outputs": [],
   "source": []
  },
  {
   "cell_type": "code",
   "execution_count": 4,
   "id": "fe99bb32",
   "metadata": {},
   "outputs": [],
   "source": []
  },
  {
   "cell_type": "code",
   "execution_count": 5,
   "id": "b1294cf4",
   "metadata": {},
   "outputs": [
    {
     "name": "stdout",
     "output_type": "stream",
     "text": [
      "Top quotes for tag \"love\" written to file quotes.csv\n"
     ]
    },
    {
     "data": {
      "text/plain": [
       "'quotes-scraped.csv'"
      ]
     },
     "execution_count": 5,
     "metadata": {},
     "output_type": "execute_result"
    }
   ],
   "source": []
  },
  {
   "cell_type": "code",
   "execution_count": 7,
   "id": "38fd56c9",
   "metadata": {},
   "outputs": [
    {
     "name": "stdout",
     "output_type": "stream",
     "text": [
      "Top quotes for tag \"inspirational\" written to file quotes.csv\n"
     ]
    },
    {
     "data": {
      "text/plain": [
       "'quotes-scraped.csv'"
      ]
     },
     "execution_count": 7,
     "metadata": {},
     "output_type": "execute_result"
    }
   ],
   "source": []
  },
  {
   "cell_type": "code",
   "execution_count": 8,
   "id": "f61841f4",
   "metadata": {},
   "outputs": [
    {
     "name": "stdout",
     "output_type": "stream",
     "text": [
      "Top quotes for tag \"life\" written to file quotes.csv\n"
     ]
    },
    {
     "data": {
      "text/plain": [
       "'quotes-scraped.csv'"
      ]
     },
     "execution_count": 8,
     "metadata": {},
     "output_type": "execute_result"
    }
   ],
   "source": []
  },
  {
   "cell_type": "code",
   "execution_count": 9,
   "id": "1091a7aa",
   "metadata": {},
   "outputs": [
    {
     "name": "stdout",
     "output_type": "stream",
     "text": [
      "Top quotes for tag \"humor\" written to file quotes.csv\n"
     ]
    },
    {
     "data": {
      "text/plain": [
       "'quotes-scraped.csv'"
      ]
     },
     "execution_count": 9,
     "metadata": {},
     "output_type": "execute_result"
    }
   ],
   "source": []
  },
  {
   "cell_type": "code",
   "execution_count": null,
   "id": "a9b75b2f",
   "metadata": {},
   "outputs": [],
   "source": []
  }
 ],
 "metadata": {
  "kernelspec": {
   "display_name": "Python 3 (ipykernel)",
   "language": "python",
   "name": "python3"
  },
  "language_info": {
   "codemirror_mode": {
    "name": "ipython",
    "version": 3
   },
   "file_extension": ".py",
   "mimetype": "text/x-python",
   "name": "python",
   "nbconvert_exporter": "python",
   "pygments_lexer": "ipython3",
   "version": "3.9.7"
  }
 },
 "nbformat": 4,
 "nbformat_minor": 5
}
