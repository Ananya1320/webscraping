{
 "cells": [
  {
   "cell_type": "markdown",
   "metadata": {},
   "source": [
    "# nannn\n",
    "\n",
    "Use the \"Run\" button to execute the code."
   ]
  },
  {
   "cell_type": "code",
   "execution_count": 1,
   "metadata": {},
   "outputs": [],
   "source": [
    "import requests\n",
    "from bs4 import BeautifulSoup\n",
    "import pandas as pd\n",
    "import os"
   ]
  },
  {
   "cell_type": "code",
   "execution_count": 2,
   "metadata": {},
   "outputs": [],
   "source": [
    "genre_url = 'https://www.amazon.in/gp/bestsellers/books/'\n",
    "response = requests.get(genre_url)"
   ]
  },
  {
   "cell_type": "code",
   "execution_count": 3,
   "metadata": {},
   "outputs": [
    {
     "data": {
      "text/plain": [
       "200"
      ]
     },
     "execution_count": 3,
     "metadata": {},
     "output_type": "execute_result"
    }
   ],
   "source": [
    "response.status_code"
   ]
  },
  {
   "cell_type": "code",
   "execution_count": 4,
   "metadata": {},
   "outputs": [
    {
     "data": {
      "text/plain": [
       "318331"
      ]
     },
     "execution_count": 4,
     "metadata": {},
     "output_type": "execute_result"
    }
   ],
   "source": [
    "len(response.text)"
   ]
  },
  {
   "cell_type": "code",
   "execution_count": 5,
   "metadata": {},
   "outputs": [
    {
     "data": {
      "text/plain": [
       "'<!doctype html><html lang=\"en-in\" class=\"a-no-js\" data-19ax5a9jf=\"dingo\"><!-- sp:feature:head-start -->\\n<head><script>var aPageStart = (new Date()).getTime();</script><meta charset=\"utf-8\"/>\\n<!-- sp:end-feature:head-start -->\\n\\n<!-- sp:feature:cs-optimization -->\\n<meta http-equiv=\\'x-dns-prefetch-control\\' content=\\'on\\'>\\n<link rel=\"dns-prefetch\" href=\"https://images-eu.ssl-images-amazon.com\">\\n<link rel=\"dns-prefetch\" href=\"https://m.media-amazon.com\">\\n<link rel=\"dns-prefetch\" href=\"https://completion.amazon.com\">\\n<!-- sp:end-feature:cs-optimization -->\\n\\n<!-- sp:feature:aui-assets -->\\n<link rel=\"stylesheet\" href=\"https://images-eu.ssl-images-amazon.com/images/I/11EIQ5IGqaL._RC|01ZTHTZObnL.css,41C-I1lXVwL.css,31ufSReDtSL.css,013z33uKh2L.css,017DsKjNQJL.css,0131vqwP5UL.css,41EWOOlBJ9L.css,11TIuySqr6L.css,01ElnPiDxWL.css,11Qjwq-j69L.css,01Dm5eKVxwL.css,01IdKcBuAdL.css,01y-XAlI+2L.css,21P6CS3L9LL.css,01oDR3IULNL.css,41CYNGpGlrL.css,01XPHJk60-L.css,01smHc51S9L.css,21aPhFy+riL.css,11gneA3MtJL.css'"
      ]
     },
     "execution_count": 5,
     "metadata": {},
     "output_type": "execute_result"
    }
   ],
   "source": [
    "response.text[:1000]"
   ]
  },
  {
   "cell_type": "code",
   "execution_count": 6,
   "metadata": {},
   "outputs": [],
   "source": [
    "doc = BeautifulSoup(response.text, 'html.parser')"
   ]
  },
  {
   "cell_type": "code",
   "execution_count": 7,
   "metadata": {},
   "outputs": [
    {
     "data": {
      "text/plain": [
       "bs4.BeautifulSoup"
      ]
     },
     "execution_count": 7,
     "metadata": {},
     "output_type": "execute_result"
    }
   ],
   "source": [
    "type(doc)"
   ]
  },
  {
   "cell_type": "code",
   "execution_count": 8,
   "metadata": {},
   "outputs": [],
   "source": [
    "div_selection_class = '_p13n-zg-nav-tree-all_style_zg-browse-group__88fbz'\n",
    "div_tags = doc.find_all('div', class_ = div_selection_class)"
   ]
  },
  {
   "cell_type": "code",
   "execution_count": 9,
   "metadata": {},
   "outputs": [
    {
     "data": {
      "text/plain": [
       "2"
      ]
     },
     "execution_count": 9,
     "metadata": {},
     "output_type": "execute_result"
    }
   ],
   "source": [
    "len(div_tags)"
   ]
  },
  {
   "cell_type": "code",
   "execution_count": 10,
   "metadata": {},
   "outputs": [
    {
     "data": {
      "text/plain": [
       "<div class=\"_p13n-zg-nav-tree-all_style_zg-browse-group__88fbz\"><div class=\"_p13n-zg-nav-tree-all_style_zg-browse-item__1rdKf _p13n-zg-nav-tree-all_style_zg-browse-height-large__1z5B8\" role=\"treeitem\"><span class=\"_p13n-zg-nav-tree-all_style_zg-selected__1SfhQ\">Books</span></div><div class=\"_p13n-zg-nav-tree-all_style_zg-browse-group__88fbz\" role=\"group\"><div class=\"_p13n-zg-nav-tree-all_style_zg-browse-item__1rdKf _p13n-zg-nav-tree-all_style_zg-browse-height-large__1z5B8\" role=\"treeitem\"><a href=\"/gp/bestsellers/books/1318158031\">Action &amp; Adventure</a></div><div class=\"_p13n-zg-nav-tree-all_style_zg-browse-item__1rdKf _p13n-zg-nav-tree-all_style_zg-browse-height-large__1z5B8\" role=\"treeitem\"><a href=\"/gp/bestsellers/books/1318052031\">Arts, Film &amp; Photography</a></div><div class=\"_p13n-zg-nav-tree-all_style_zg-browse-item__1rdKf _p13n-zg-nav-tree-all_style_zg-browse-height-large__1z5B8\" role=\"treeitem\"><a href=\"/gp/bestsellers/books/1318064031\">Biographies, Diaries &amp; True Accounts</a></div><div class=\"_p13n-zg-nav-tree-all_style_zg-browse-item__1rdKf _p13n-zg-nav-tree-all_style_zg-browse-height-large__1z5B8\" role=\"treeitem\"><a href=\"/gp/bestsellers/books/1318068031\">Business &amp; Economics</a></div><div class=\"_p13n-zg-nav-tree-all_style_zg-browse-item__1rdKf _p13n-zg-nav-tree-all_style_zg-browse-height-large__1z5B8\" role=\"treeitem\"><a href=\"/gp/bestsellers/books/1318073031\">Children's &amp; Young Adult</a></div><div class=\"_p13n-zg-nav-tree-all_style_zg-browse-item__1rdKf _p13n-zg-nav-tree-all_style_zg-browse-height-large__1z5B8\" role=\"treeitem\"><a href=\"/gp/bestsellers/books/1318104031\">Comics &amp; Mangas</a></div><div class=\"_p13n-zg-nav-tree-all_style_zg-browse-item__1rdKf _p13n-zg-nav-tree-all_style_zg-browse-height-large__1z5B8\" role=\"treeitem\"><a href=\"/gp/bestsellers/books/1318105031\">Computing, Internet &amp; Digital Media</a></div><div class=\"_p13n-zg-nav-tree-all_style_zg-browse-item__1rdKf _p13n-zg-nav-tree-all_style_zg-browse-height-large__1z5B8\" role=\"treeitem\"><a href=\"/gp/bestsellers/books/1318118031\">Crafts, Home &amp; Lifestyle</a></div><div class=\"_p13n-zg-nav-tree-all_style_zg-browse-item__1rdKf _p13n-zg-nav-tree-all_style_zg-browse-height-large__1z5B8\" role=\"treeitem\"><a href=\"/gp/bestsellers/books/1318161031\">Crime, Thriller &amp; Mystery</a></div><div class=\"_p13n-zg-nav-tree-all_style_zg-browse-item__1rdKf _p13n-zg-nav-tree-all_style_zg-browse-height-large__1z5B8\" role=\"treeitem\"><a href=\"/gp/bestsellers/books/22960344031\">Engineering</a></div><div class=\"_p13n-zg-nav-tree-all_style_zg-browse-item__1rdKf _p13n-zg-nav-tree-all_style_zg-browse-height-large__1z5B8\" role=\"treeitem\"><a href=\"/gp/bestsellers/books/4149751031\">Exam Preparation</a></div><div class=\"_p13n-zg-nav-tree-all_style_zg-browse-item__1rdKf _p13n-zg-nav-tree-all_style_zg-browse-height-large__1z5B8\" role=\"treeitem\"><a href=\"/gp/bestsellers/books/1402038031\">Fantasy, Horror &amp; Science Fiction</a></div><div class=\"_p13n-zg-nav-tree-all_style_zg-browse-item__1rdKf _p13n-zg-nav-tree-all_style_zg-browse-height-large__1z5B8\" role=\"treeitem\"><a href=\"/gp/bestsellers/books/1318128031\">Health, Family &amp; Personal Development</a></div><div class=\"_p13n-zg-nav-tree-all_style_zg-browse-item__1rdKf _p13n-zg-nav-tree-all_style_zg-browse-height-large__1z5B8\" role=\"treeitem\"><a href=\"/gp/bestsellers/books/23033693031\">Health, Fitness &amp; Nutrition</a></div><div class=\"_p13n-zg-nav-tree-all_style_zg-browse-item__1rdKf _p13n-zg-nav-tree-all_style_zg-browse-height-large__1z5B8\" role=\"treeitem\"><a href=\"/gp/bestsellers/books/4149418031\">Higher Education Textbooks</a></div><div class=\"_p13n-zg-nav-tree-all_style_zg-browse-item__1rdKf _p13n-zg-nav-tree-all_style_zg-browse-height-large__1z5B8\" role=\"treeitem\"><a href=\"/gp/bestsellers/books/1318164031\">Historical Fiction</a></div><div class=\"_p13n-zg-nav-tree-all_style_zg-browse-item__1rdKf _p13n-zg-nav-tree-all_style_zg-browse-height-large__1z5B8\" role=\"treeitem\"><a href=\"/gp/bestsellers/books/4149493031\">History</a></div><div class=\"_p13n-zg-nav-tree-all_style_zg-browse-item__1rdKf _p13n-zg-nav-tree-all_style_zg-browse-height-large__1z5B8\" role=\"treeitem\"><a href=\"/gp/bestsellers/books/1318143031\">Humour</a></div><div class=\"_p13n-zg-nav-tree-all_style_zg-browse-item__1rdKf _p13n-zg-nav-tree-all_style_zg-browse-height-large__1z5B8\" role=\"treeitem\"><a href=\"/gp/bestsellers/books/1318144031\">Language, Linguistics &amp; Writing</a></div><div class=\"_p13n-zg-nav-tree-all_style_zg-browse-item__1rdKf _p13n-zg-nav-tree-all_style_zg-browse-height-large__1z5B8\" role=\"treeitem\"><a href=\"/gp/bestsellers/books/4149542031\">Law</a></div><div class=\"_p13n-zg-nav-tree-all_style_zg-browse-item__1rdKf _p13n-zg-nav-tree-all_style_zg-browse-height-large__1z5B8\" role=\"treeitem\"><a href=\"/gp/bestsellers/books/1318157031\">Literature &amp; Fiction</a></div><div class=\"_p13n-zg-nav-tree-all_style_zg-browse-item__1rdKf _p13n-zg-nav-tree-all_style_zg-browse-height-large__1z5B8\" role=\"treeitem\"><a href=\"/gp/bestsellers/books/1318298031\">Maps &amp; Atlases</a></div><div class=\"_p13n-zg-nav-tree-all_style_zg-browse-item__1rdKf _p13n-zg-nav-tree-all_style_zg-browse-height-large__1z5B8\" role=\"treeitem\"><a href=\"/gp/bestsellers/books/4149549031\">Medicine &amp; Health Sciences</a></div><div class=\"_p13n-zg-nav-tree-all_style_zg-browse-item__1rdKf _p13n-zg-nav-tree-all_style_zg-browse-height-large__1z5B8\" role=\"treeitem\"><a href=\"/gp/bestsellers/books/1318176031\">Politics</a></div><div class=\"_p13n-zg-nav-tree-all_style_zg-browse-item__1rdKf _p13n-zg-nav-tree-all_style_zg-browse-height-large__1z5B8\" role=\"treeitem\"><a href=\"/gp/bestsellers/books/1318185031\">Reference</a></div><div class=\"_p13n-zg-nav-tree-all_style_zg-browse-item__1rdKf _p13n-zg-nav-tree-all_style_zg-browse-height-large__1z5B8\" role=\"treeitem\"><a href=\"/gp/bestsellers/books/1318188031\">Religion</a></div><div class=\"_p13n-zg-nav-tree-all_style_zg-browse-item__1rdKf _p13n-zg-nav-tree-all_style_zg-browse-height-large__1z5B8\" role=\"treeitem\"><a href=\"/gp/bestsellers/books/1318168031\">Romance</a></div><div class=\"_p13n-zg-nav-tree-all_style_zg-browse-item__1rdKf _p13n-zg-nav-tree-all_style_zg-browse-height-large__1z5B8\" role=\"treeitem\"><a href=\"/gp/bestsellers/books/4149807031\">School Books</a></div><div class=\"_p13n-zg-nav-tree-all_style_zg-browse-item__1rdKf _p13n-zg-nav-tree-all_style_zg-browse-height-large__1z5B8\" role=\"treeitem\"><a href=\"/gp/bestsellers/books/4149708031\">Science &amp; Mathematics</a></div><div class=\"_p13n-zg-nav-tree-all_style_zg-browse-item__1rdKf _p13n-zg-nav-tree-all_style_zg-browse-height-large__1z5B8\" role=\"treeitem\"><a href=\"/gp/bestsellers/books/1318203031\">Sciences, Technology &amp; Medicine</a></div><div class=\"_p13n-zg-nav-tree-all_style_zg-browse-item__1rdKf _p13n-zg-nav-tree-all_style_zg-browse-height-large__1z5B8\" role=\"treeitem\"><a href=\"/gp/bestsellers/books/1318216031\">Society &amp; Social Sciences</a></div><div class=\"_p13n-zg-nav-tree-all_style_zg-browse-item__1rdKf _p13n-zg-nav-tree-all_style_zg-browse-height-large__1z5B8\" role=\"treeitem\"><a href=\"/gp/bestsellers/books/1318224031\">Sports</a></div><div class=\"_p13n-zg-nav-tree-all_style_zg-browse-item__1rdKf _p13n-zg-nav-tree-all_style_zg-browse-height-large__1z5B8\" role=\"treeitem\"><a href=\"/gp/bestsellers/books/15417300031\">Textbooks &amp; Study Guides</a></div><div class=\"_p13n-zg-nav-tree-all_style_zg-browse-item__1rdKf _p13n-zg-nav-tree-all_style_zg-browse-height-large__1z5B8\" role=\"treeitem\"><a href=\"/gp/bestsellers/books/1318295031\">Travel</a></div></div></div>"
      ]
     },
     "execution_count": 10,
     "metadata": {},
     "output_type": "execute_result"
    }
   ],
   "source": [
    "div_tags[0]"
   ]
  },
  {
   "cell_type": "code",
   "execution_count": 11,
   "metadata": {},
   "outputs": [],
   "source": [
    "a_tags = div_tags[0].find_all('a')"
   ]
  },
  {
   "cell_type": "code",
   "execution_count": 12,
   "metadata": {},
   "outputs": [
    {
     "data": {
      "text/plain": [
       "34"
      ]
     },
     "execution_count": 12,
     "metadata": {},
     "output_type": "execute_result"
    }
   ],
   "source": [
    "len(a_tags)"
   ]
  },
  {
   "cell_type": "code",
   "execution_count": 13,
   "metadata": {},
   "outputs": [
    {
     "data": {
      "text/plain": [
       "[<a href=\"/gp/bestsellers/books/1318158031\">Action &amp; Adventure</a>,\n",
       " <a href=\"/gp/bestsellers/books/1318052031\">Arts, Film &amp; Photography</a>,\n",
       " <a href=\"/gp/bestsellers/books/1318064031\">Biographies, Diaries &amp; True Accounts</a>,\n",
       " <a href=\"/gp/bestsellers/books/1318068031\">Business &amp; Economics</a>,\n",
       " <a href=\"/gp/bestsellers/books/1318073031\">Children's &amp; Young Adult</a>]"
      ]
     },
     "execution_count": 13,
     "metadata": {},
     "output_type": "execute_result"
    }
   ],
   "source": [
    "a_tags[:5]"
   ]
  },
  {
   "cell_type": "code",
   "execution_count": 14,
   "metadata": {},
   "outputs": [
    {
     "name": "stdout",
     "output_type": "stream",
     "text": [
      "1st Genre Title: Action & Adventure\n"
     ]
    }
   ],
   "source": [
    "genre_title_1 = a_tags[0].text\n",
    "\n",
    "#Let's print the 1st Genre Title \n",
    "print('1st Genre Title:',genre_title_1)"
   ]
  },
  {
   "cell_type": "code",
   "execution_count": 15,
   "metadata": {},
   "outputs": [
    {
     "name": "stdout",
     "output_type": "stream",
     "text": [
      "1st Genre URL: /gp/bestsellers/books/1318158031\n",
      "1st Genre URL: https://www.amazon.in/gp/bestsellers/books/1318158031\n"
     ]
    }
   ],
   "source": [
    "genre_url_1 = a_tags[0]['href']\n",
    "\n",
    "#Let's print the 1st Genre URL\n",
    "print('1st Genre URL:', genre_url_1)\n",
    "\n",
    "#Let's add 'https://www.amazon.in' to the above url and get the complete working link.\n",
    "\n",
    "base_url = 'https://www.amazon.in'\n",
    "print('1st Genre URL:', base_url + genre_url_1)"
   ]
  },
  {
   "cell_type": "code",
   "execution_count": 16,
   "metadata": {},
   "outputs": [
    {
     "name": "stdout",
     "output_type": "stream",
     "text": [
      "['Action & Adventure', 'Arts, Film & Photography', 'Biographies, Diaries & True Accounts', 'Business & Economics', \"Children's & Young Adult\", 'Comics & Mangas', 'Computing, Internet & Digital Media', 'Crafts, Home & Lifestyle', 'Crime, Thriller & Mystery', 'Engineering', 'Exam Preparation', 'Fantasy, Horror & Science Fiction', 'Health, Family & Personal Development', 'Health, Fitness & Nutrition', 'Higher Education Textbooks', 'Historical Fiction', 'History', 'Humour', 'Language, Linguistics & Writing', 'Law', 'Literature & Fiction', 'Maps & Atlases', 'Medicine & Health Sciences', 'Politics', 'Reference', 'Religion', 'Romance', 'School Books', 'Science & Mathematics', 'Sciences, Technology & Medicine', 'Society & Social Sciences', 'Sports', 'Textbooks & Study Guides', 'Travel']\n"
     ]
    }
   ],
   "source": [
    "genre_titles = []\n",
    "\n",
    "for i in range(0, len(a_tags)):\n",
    "    genre_titles.append(a_tags[i].text) #Append the genre_titles to the empty list\n",
    "\n",
    "#Print the genre_titles\n",
    "print(genre_titles)"
   ]
  },
  {
   "cell_type": "code",
   "execution_count": 17,
   "metadata": {},
   "outputs": [
    {
     "name": "stdout",
     "output_type": "stream",
     "text": [
      "['http://amazon.in/gp/bestsellers/books/1318158031', 'http://amazon.in/gp/bestsellers/books/1318052031', 'http://amazon.in/gp/bestsellers/books/1318064031', 'http://amazon.in/gp/bestsellers/books/1318068031', 'http://amazon.in/gp/bestsellers/books/1318073031', 'http://amazon.in/gp/bestsellers/books/1318104031', 'http://amazon.in/gp/bestsellers/books/1318105031', 'http://amazon.in/gp/bestsellers/books/1318118031', 'http://amazon.in/gp/bestsellers/books/1318161031', 'http://amazon.in/gp/bestsellers/books/22960344031', 'http://amazon.in/gp/bestsellers/books/4149751031', 'http://amazon.in/gp/bestsellers/books/1402038031', 'http://amazon.in/gp/bestsellers/books/1318128031', 'http://amazon.in/gp/bestsellers/books/23033693031', 'http://amazon.in/gp/bestsellers/books/4149418031', 'http://amazon.in/gp/bestsellers/books/1318164031', 'http://amazon.in/gp/bestsellers/books/4149493031', 'http://amazon.in/gp/bestsellers/books/1318143031', 'http://amazon.in/gp/bestsellers/books/1318144031', 'http://amazon.in/gp/bestsellers/books/4149542031', 'http://amazon.in/gp/bestsellers/books/1318157031', 'http://amazon.in/gp/bestsellers/books/1318298031', 'http://amazon.in/gp/bestsellers/books/4149549031', 'http://amazon.in/gp/bestsellers/books/1318176031', 'http://amazon.in/gp/bestsellers/books/1318185031', 'http://amazon.in/gp/bestsellers/books/1318188031', 'http://amazon.in/gp/bestsellers/books/1318168031', 'http://amazon.in/gp/bestsellers/books/4149807031', 'http://amazon.in/gp/bestsellers/books/4149708031', 'http://amazon.in/gp/bestsellers/books/1318203031', 'http://amazon.in/gp/bestsellers/books/1318216031', 'http://amazon.in/gp/bestsellers/books/1318224031', 'http://amazon.in/gp/bestsellers/books/15417300031', 'http://amazon.in/gp/bestsellers/books/1318295031']\n"
     ]
    }
   ],
   "source": [
    "#Create a empty genre_url list\n",
    "genre_urls = []\n",
    "base_url = 'http://amazon.in' # Base url\n",
    "\n",
    "for i in range(0, len(a_tags)):\n",
    "    genre_urls.append(base_url + a_tags[i]['href']) #Append the genre_titles to the empty list\n",
    "\n",
    "#Print the genre_titles\n",
    "print(genre_urls)"
   ]
  },
  {
   "cell_type": "code",
   "execution_count": 18,
   "metadata": {},
   "outputs": [],
   "source": [
    "\n",
    "genre_dict = {\n",
    "    'genre_titles': genre_titles, \n",
    "    'genre_urls': genre_urls\n",
    "}"
   ]
  },
  {
   "cell_type": "code",
   "execution_count": 19,
   "metadata": {},
   "outputs": [
    {
     "data": {
      "text/html": [
       "<div>\n",
       "<style scoped>\n",
       "    .dataframe tbody tr th:only-of-type {\n",
       "        vertical-align: middle;\n",
       "    }\n",
       "\n",
       "    .dataframe tbody tr th {\n",
       "        vertical-align: top;\n",
       "    }\n",
       "\n",
       "    .dataframe thead th {\n",
       "        text-align: right;\n",
       "    }\n",
       "</style>\n",
       "<table border=\"1\" class=\"dataframe\">\n",
       "  <thead>\n",
       "    <tr style=\"text-align: right;\">\n",
       "      <th></th>\n",
       "      <th>genre_titles</th>\n",
       "      <th>genre_urls</th>\n",
       "    </tr>\n",
       "  </thead>\n",
       "  <tbody>\n",
       "    <tr>\n",
       "      <th>0</th>\n",
       "      <td>Action &amp; Adventure</td>\n",
       "      <td>http://amazon.in/gp/bestsellers/books/1318158031</td>\n",
       "    </tr>\n",
       "    <tr>\n",
       "      <th>1</th>\n",
       "      <td>Arts, Film &amp; Photography</td>\n",
       "      <td>http://amazon.in/gp/bestsellers/books/1318052031</td>\n",
       "    </tr>\n",
       "    <tr>\n",
       "      <th>2</th>\n",
       "      <td>Biographies, Diaries &amp; True Accounts</td>\n",
       "      <td>http://amazon.in/gp/bestsellers/books/1318064031</td>\n",
       "    </tr>\n",
       "    <tr>\n",
       "      <th>3</th>\n",
       "      <td>Business &amp; Economics</td>\n",
       "      <td>http://amazon.in/gp/bestsellers/books/1318068031</td>\n",
       "    </tr>\n",
       "    <tr>\n",
       "      <th>4</th>\n",
       "      <td>Children's &amp; Young Adult</td>\n",
       "      <td>http://amazon.in/gp/bestsellers/books/1318073031</td>\n",
       "    </tr>\n",
       "    <tr>\n",
       "      <th>5</th>\n",
       "      <td>Comics &amp; Mangas</td>\n",
       "      <td>http://amazon.in/gp/bestsellers/books/1318104031</td>\n",
       "    </tr>\n",
       "    <tr>\n",
       "      <th>6</th>\n",
       "      <td>Computing, Internet &amp; Digital Media</td>\n",
       "      <td>http://amazon.in/gp/bestsellers/books/1318105031</td>\n",
       "    </tr>\n",
       "    <tr>\n",
       "      <th>7</th>\n",
       "      <td>Crafts, Home &amp; Lifestyle</td>\n",
       "      <td>http://amazon.in/gp/bestsellers/books/1318118031</td>\n",
       "    </tr>\n",
       "    <tr>\n",
       "      <th>8</th>\n",
       "      <td>Crime, Thriller &amp; Mystery</td>\n",
       "      <td>http://amazon.in/gp/bestsellers/books/1318161031</td>\n",
       "    </tr>\n",
       "    <tr>\n",
       "      <th>9</th>\n",
       "      <td>Engineering</td>\n",
       "      <td>http://amazon.in/gp/bestsellers/books/22960344031</td>\n",
       "    </tr>\n",
       "    <tr>\n",
       "      <th>10</th>\n",
       "      <td>Exam Preparation</td>\n",
       "      <td>http://amazon.in/gp/bestsellers/books/4149751031</td>\n",
       "    </tr>\n",
       "    <tr>\n",
       "      <th>11</th>\n",
       "      <td>Fantasy, Horror &amp; Science Fiction</td>\n",
       "      <td>http://amazon.in/gp/bestsellers/books/1402038031</td>\n",
       "    </tr>\n",
       "    <tr>\n",
       "      <th>12</th>\n",
       "      <td>Health, Family &amp; Personal Development</td>\n",
       "      <td>http://amazon.in/gp/bestsellers/books/1318128031</td>\n",
       "    </tr>\n",
       "    <tr>\n",
       "      <th>13</th>\n",
       "      <td>Health, Fitness &amp; Nutrition</td>\n",
       "      <td>http://amazon.in/gp/bestsellers/books/23033693031</td>\n",
       "    </tr>\n",
       "    <tr>\n",
       "      <th>14</th>\n",
       "      <td>Higher Education Textbooks</td>\n",
       "      <td>http://amazon.in/gp/bestsellers/books/4149418031</td>\n",
       "    </tr>\n",
       "    <tr>\n",
       "      <th>15</th>\n",
       "      <td>Historical Fiction</td>\n",
       "      <td>http://amazon.in/gp/bestsellers/books/1318164031</td>\n",
       "    </tr>\n",
       "    <tr>\n",
       "      <th>16</th>\n",
       "      <td>History</td>\n",
       "      <td>http://amazon.in/gp/bestsellers/books/4149493031</td>\n",
       "    </tr>\n",
       "    <tr>\n",
       "      <th>17</th>\n",
       "      <td>Humour</td>\n",
       "      <td>http://amazon.in/gp/bestsellers/books/1318143031</td>\n",
       "    </tr>\n",
       "    <tr>\n",
       "      <th>18</th>\n",
       "      <td>Language, Linguistics &amp; Writing</td>\n",
       "      <td>http://amazon.in/gp/bestsellers/books/1318144031</td>\n",
       "    </tr>\n",
       "    <tr>\n",
       "      <th>19</th>\n",
       "      <td>Law</td>\n",
       "      <td>http://amazon.in/gp/bestsellers/books/4149542031</td>\n",
       "    </tr>\n",
       "    <tr>\n",
       "      <th>20</th>\n",
       "      <td>Literature &amp; Fiction</td>\n",
       "      <td>http://amazon.in/gp/bestsellers/books/1318157031</td>\n",
       "    </tr>\n",
       "    <tr>\n",
       "      <th>21</th>\n",
       "      <td>Maps &amp; Atlases</td>\n",
       "      <td>http://amazon.in/gp/bestsellers/books/1318298031</td>\n",
       "    </tr>\n",
       "    <tr>\n",
       "      <th>22</th>\n",
       "      <td>Medicine &amp; Health Sciences</td>\n",
       "      <td>http://amazon.in/gp/bestsellers/books/4149549031</td>\n",
       "    </tr>\n",
       "    <tr>\n",
       "      <th>23</th>\n",
       "      <td>Politics</td>\n",
       "      <td>http://amazon.in/gp/bestsellers/books/1318176031</td>\n",
       "    </tr>\n",
       "    <tr>\n",
       "      <th>24</th>\n",
       "      <td>Reference</td>\n",
       "      <td>http://amazon.in/gp/bestsellers/books/1318185031</td>\n",
       "    </tr>\n",
       "    <tr>\n",
       "      <th>25</th>\n",
       "      <td>Religion</td>\n",
       "      <td>http://amazon.in/gp/bestsellers/books/1318188031</td>\n",
       "    </tr>\n",
       "    <tr>\n",
       "      <th>26</th>\n",
       "      <td>Romance</td>\n",
       "      <td>http://amazon.in/gp/bestsellers/books/1318168031</td>\n",
       "    </tr>\n",
       "    <tr>\n",
       "      <th>27</th>\n",
       "      <td>School Books</td>\n",
       "      <td>http://amazon.in/gp/bestsellers/books/4149807031</td>\n",
       "    </tr>\n",
       "    <tr>\n",
       "      <th>28</th>\n",
       "      <td>Science &amp; Mathematics</td>\n",
       "      <td>http://amazon.in/gp/bestsellers/books/4149708031</td>\n",
       "    </tr>\n",
       "    <tr>\n",
       "      <th>29</th>\n",
       "      <td>Sciences, Technology &amp; Medicine</td>\n",
       "      <td>http://amazon.in/gp/bestsellers/books/1318203031</td>\n",
       "    </tr>\n",
       "    <tr>\n",
       "      <th>30</th>\n",
       "      <td>Society &amp; Social Sciences</td>\n",
       "      <td>http://amazon.in/gp/bestsellers/books/1318216031</td>\n",
       "    </tr>\n",
       "    <tr>\n",
       "      <th>31</th>\n",
       "      <td>Sports</td>\n",
       "      <td>http://amazon.in/gp/bestsellers/books/1318224031</td>\n",
       "    </tr>\n",
       "    <tr>\n",
       "      <th>32</th>\n",
       "      <td>Textbooks &amp; Study Guides</td>\n",
       "      <td>http://amazon.in/gp/bestsellers/books/15417300031</td>\n",
       "    </tr>\n",
       "    <tr>\n",
       "      <th>33</th>\n",
       "      <td>Travel</td>\n",
       "      <td>http://amazon.in/gp/bestsellers/books/1318295031</td>\n",
       "    </tr>\n",
       "  </tbody>\n",
       "</table>\n",
       "</div>"
      ],
      "text/plain": [
       "                             genre_titles  \\\n",
       "0                      Action & Adventure   \n",
       "1                Arts, Film & Photography   \n",
       "2    Biographies, Diaries & True Accounts   \n",
       "3                    Business & Economics   \n",
       "4                Children's & Young Adult   \n",
       "5                         Comics & Mangas   \n",
       "6     Computing, Internet & Digital Media   \n",
       "7                Crafts, Home & Lifestyle   \n",
       "8               Crime, Thriller & Mystery   \n",
       "9                             Engineering   \n",
       "10                       Exam Preparation   \n",
       "11      Fantasy, Horror & Science Fiction   \n",
       "12  Health, Family & Personal Development   \n",
       "13            Health, Fitness & Nutrition   \n",
       "14             Higher Education Textbooks   \n",
       "15                     Historical Fiction   \n",
       "16                                History   \n",
       "17                                 Humour   \n",
       "18        Language, Linguistics & Writing   \n",
       "19                                    Law   \n",
       "20                   Literature & Fiction   \n",
       "21                         Maps & Atlases   \n",
       "22             Medicine & Health Sciences   \n",
       "23                               Politics   \n",
       "24                              Reference   \n",
       "25                               Religion   \n",
       "26                                Romance   \n",
       "27                           School Books   \n",
       "28                  Science & Mathematics   \n",
       "29        Sciences, Technology & Medicine   \n",
       "30              Society & Social Sciences   \n",
       "31                                 Sports   \n",
       "32               Textbooks & Study Guides   \n",
       "33                                 Travel   \n",
       "\n",
       "                                           genre_urls  \n",
       "0    http://amazon.in/gp/bestsellers/books/1318158031  \n",
       "1    http://amazon.in/gp/bestsellers/books/1318052031  \n",
       "2    http://amazon.in/gp/bestsellers/books/1318064031  \n",
       "3    http://amazon.in/gp/bestsellers/books/1318068031  \n",
       "4    http://amazon.in/gp/bestsellers/books/1318073031  \n",
       "5    http://amazon.in/gp/bestsellers/books/1318104031  \n",
       "6    http://amazon.in/gp/bestsellers/books/1318105031  \n",
       "7    http://amazon.in/gp/bestsellers/books/1318118031  \n",
       "8    http://amazon.in/gp/bestsellers/books/1318161031  \n",
       "9   http://amazon.in/gp/bestsellers/books/22960344031  \n",
       "10   http://amazon.in/gp/bestsellers/books/4149751031  \n",
       "11   http://amazon.in/gp/bestsellers/books/1402038031  \n",
       "12   http://amazon.in/gp/bestsellers/books/1318128031  \n",
       "13  http://amazon.in/gp/bestsellers/books/23033693031  \n",
       "14   http://amazon.in/gp/bestsellers/books/4149418031  \n",
       "15   http://amazon.in/gp/bestsellers/books/1318164031  \n",
       "16   http://amazon.in/gp/bestsellers/books/4149493031  \n",
       "17   http://amazon.in/gp/bestsellers/books/1318143031  \n",
       "18   http://amazon.in/gp/bestsellers/books/1318144031  \n",
       "19   http://amazon.in/gp/bestsellers/books/4149542031  \n",
       "20   http://amazon.in/gp/bestsellers/books/1318157031  \n",
       "21   http://amazon.in/gp/bestsellers/books/1318298031  \n",
       "22   http://amazon.in/gp/bestsellers/books/4149549031  \n",
       "23   http://amazon.in/gp/bestsellers/books/1318176031  \n",
       "24   http://amazon.in/gp/bestsellers/books/1318185031  \n",
       "25   http://amazon.in/gp/bestsellers/books/1318188031  \n",
       "26   http://amazon.in/gp/bestsellers/books/1318168031  \n",
       "27   http://amazon.in/gp/bestsellers/books/4149807031  \n",
       "28   http://amazon.in/gp/bestsellers/books/4149708031  \n",
       "29   http://amazon.in/gp/bestsellers/books/1318203031  \n",
       "30   http://amazon.in/gp/bestsellers/books/1318216031  \n",
       "31   http://amazon.in/gp/bestsellers/books/1318224031  \n",
       "32  http://amazon.in/gp/bestsellers/books/15417300031  \n",
       "33   http://amazon.in/gp/bestsellers/books/1318295031  "
      ]
     },
     "execution_count": 19,
     "metadata": {},
     "output_type": "execute_result"
    }
   ],
   "source": [
    "genre_df = pd.DataFrame(genre_dict)\n",
    "genre_df"
   ]
  },
  {
   "cell_type": "code",
   "execution_count": 21,
   "metadata": {},
   "outputs": [],
   "source": [
    "genre_df.to_csv('genres.csv', index = None)"
   ]
  },
  {
   "cell_type": "code",
   "execution_count": 22,
   "metadata": {},
   "outputs": [],
   "source": [
    "# genre url is the url of the first genre page\n",
    "genre_url = 'https://www.amazon.in/gp/bestsellers/books/1318158031'\n",
    "\n",
    "# Using a request library to fetch the genre_url\n",
    "response = requests.get(genre_url)"
   ]
  },
  {
   "cell_type": "code",
   "execution_count": 23,
   "metadata": {},
   "outputs": [
    {
     "data": {
      "text/plain": [
       "200"
      ]
     },
     "execution_count": 23,
     "metadata": {},
     "output_type": "execute_result"
    }
   ],
   "source": [
    "response.status_code"
   ]
  },
  {
   "cell_type": "code",
   "execution_count": 24,
   "metadata": {},
   "outputs": [],
   "source": [
    "genre_doc = BeautifulSoup(response.text, 'html.parser')"
   ]
  },
  {
   "cell_type": "code",
   "execution_count": 25,
   "metadata": {},
   "outputs": [
    {
     "data": {
      "text/plain": [
       "bs4.BeautifulSoup"
      ]
     },
     "execution_count": 25,
     "metadata": {},
     "output_type": "execute_result"
    }
   ],
   "source": [
    "type(genre_doc)"
   ]
  },
  {
   "cell_type": "code",
   "execution_count": 26,
   "metadata": {},
   "outputs": [],
   "source": [
    "div_selection_class = 'zg-grid-general-faceout'\n",
    "div_tags = genre_doc.find_all('div', class_ = div_selection_class)"
   ]
  },
  {
   "cell_type": "code",
   "execution_count": 27,
   "metadata": {},
   "outputs": [
    {
     "data": {
      "text/plain": [
       "50"
      ]
     },
     "execution_count": 27,
     "metadata": {},
     "output_type": "execute_result"
    }
   ],
   "source": [
    "len(div_tags)"
   ]
  },
  {
   "cell_type": "code",
   "execution_count": 28,
   "metadata": {},
   "outputs": [
    {
     "data": {
      "text/plain": [
       "<div class=\"zg-grid-general-faceout\"><div class=\"p13n-sc-uncoverable-faceout\" id=\"B019PIOJYU\"><a class=\"a-link-normal\" href=\"/Harry-Potter-Philosophers-Stone-Rowling-ebook/dp/B019PIOJYU/ref=zg_bs_1318158031_sccl_1/000-0000000-0000000?pd_rd_i=B019PIOJYU&amp;psc=1\" role=\"link\" tabindex=\"-1\"><div class=\"a-section a-spacing-mini _cDEzb_noop_3Xbw5\"><img alt=\"Harry Potter and the Philosopher's Stone\" class=\"a-dynamic-image p13n-sc-dynamic-image p13n-product-image\" data-a-dynamic-image='{\"https://images-eu.ssl-images-amazon.com/images/I/81m9fP+LIPL._AC_UL302_SR302,200_.jpg\":[302,200],\"https://images-eu.ssl-images-amazon.com/images/I/81m9fP+LIPL._AC_UL604_SR604,400_.jpg\":[604,400],\"https://images-eu.ssl-images-amazon.com/images/I/81m9fP+LIPL._AC_UL906_SR906,600_.jpg\":[906,600]}' height=\"200px\" src=\"https://images-eu.ssl-images-amazon.com/images/I/81m9fP+LIPL._AC_UL302_SR302,200_.jpg\" style=\"max-width:302px;max-height:200px\"/></div></a><a class=\"a-link-normal\" href=\"/Harry-Potter-Philosophers-Stone-Rowling-ebook/dp/B019PIOJYU/ref=zg_bs_1318158031_sccl_1/000-0000000-0000000?pd_rd_i=B019PIOJYU&amp;psc=1\" role=\"link\"><span><div class=\"_cDEzb_p13n-sc-css-line-clamp-1_1Fn1y\">Harry Potter and the Philosopher's Stone</div></span></a><div class=\"a-row a-size-small\"><a class=\"a-size-small a-link-child\" href=\"/J-K-Rowling/e/B000AP9A6K/ref=zg_bs_1318158031_bl_sccl_1/000-0000000-0000000?pd_rd_i=B019PIOJYU\"><div class=\"_cDEzb_p13n-sc-css-line-clamp-1_1Fn1y\">J.K. Rowling</div></a></div><div class=\"a-row\"><div class=\"a-icon-row\"><a class=\"a-link-normal\" href=\"/product-reviews/B019PIOJYU/ref=zg_bs_1318158031_cr_sccl_1/000-0000000-0000000?pd_rd_i=B019PIOJYU\" title=\"4.7 out of 5 stars\"><i class=\"a-icon a-icon-star-small a-star-small-4-5 aok-align-top\"><span class=\"a-icon-alt\">4.7 out of 5 stars</span></i> <span class=\"a-size-small\">51,083</span></a></div></div><div class=\"a-row a-size-small\"><span class=\"a-size-small a-color-secondary a-text-normal\">Kindle Edition</span></div><div class=\"a-row\"><a class=\"a-link-normal\" href=\"/Harry-Potter-Philosophers-Stone-Rowling-ebook/dp/B019PIOJYU/ref=zg_bs_1318158031_sccl_1/000-0000000-0000000?pd_rd_i=B019PIOJYU&amp;psc=1\" role=\"link\"><span class=\"a-color-secondary\">1 offer from <span class=\"a-size-base\"><span class=\"p13n-sc-price\">₹149.00</span></span></span></a></div></div></div>"
      ]
     },
     "execution_count": 28,
     "metadata": {},
     "output_type": "execute_result"
    }
   ],
   "source": [
    "div_tags[0]"
   ]
  },
  {
   "cell_type": "code",
   "execution_count": 29,
   "metadata": {},
   "outputs": [
    {
     "data": {
      "text/plain": [
       "<span><div class=\"_cDEzb_p13n-sc-css-line-clamp-1_1Fn1y\">Harry Potter and the Philosopher's Stone</div></span>"
      ]
     },
     "execution_count": 29,
     "metadata": {},
     "output_type": "execute_result"
    }
   ],
   "source": [
    "div_tags[0].find('span')"
   ]
  },
  {
   "cell_type": "code",
   "execution_count": 30,
   "metadata": {},
   "outputs": [
    {
     "data": {
      "text/plain": [
       "\"Harry Potter and the Philosopher's Stone\""
      ]
     },
     "execution_count": 30,
     "metadata": {},
     "output_type": "execute_result"
    }
   ],
   "source": [
    "div_tags[0].find('span').text"
   ]
  },
  {
   "cell_type": "code",
   "execution_count": 31,
   "metadata": {},
   "outputs": [
    {
     "data": {
      "text/plain": [
       "<a class=\"a-size-small a-link-child\" href=\"/J-K-Rowling/e/B000AP9A6K/ref=zg_bs_1318158031_bl_sccl_1/000-0000000-0000000?pd_rd_i=B019PIOJYU\"><div class=\"_cDEzb_p13n-sc-css-line-clamp-1_1Fn1y\">J.K. Rowling</div></a>"
      ]
     },
     "execution_count": 31,
     "metadata": {},
     "output_type": "execute_result"
    }
   ],
   "source": [
    "a_selection_tag = 'a-size-small a-link-child'\n",
    "div_tags[0].find('a', class_ = a_selection_tag)"
   ]
  },
  {
   "cell_type": "code",
   "execution_count": 32,
   "metadata": {},
   "outputs": [
    {
     "data": {
      "text/plain": [
       "'J.K. Rowling'"
      ]
     },
     "execution_count": 32,
     "metadata": {},
     "output_type": "execute_result"
    }
   ],
   "source": [
    "div_tags[0].find('a', class_ = a_selection_tag).text"
   ]
  },
  {
   "cell_type": "code",
   "execution_count": 33,
   "metadata": {},
   "outputs": [],
   "source": [
    "span_selection_class = 'a-size-small a-color-base'\n",
    "div_tags[12].find('span', class_ = span_selection_class)"
   ]
  },
  {
   "cell_type": "code",
   "execution_count": 34,
   "metadata": {},
   "outputs": [
    {
     "ename": "AttributeError",
     "evalue": "'NoneType' object has no attribute 'text'",
     "output_type": "error",
     "traceback": [
      "\u001b[0;31m---------------------------------------------------------------------------\u001b[0m",
      "\u001b[0;31mAttributeError\u001b[0m                            Traceback (most recent call last)",
      "\u001b[0;32m/tmp/ipykernel_38/639537562.py\u001b[0m in \u001b[0;36m<module>\u001b[0;34m\u001b[0m\n\u001b[1;32m      1\u001b[0m \u001b[0mspan_selection_class\u001b[0m \u001b[0;34m=\u001b[0m \u001b[0;34m'a-size-small a-color-base'\u001b[0m\u001b[0;34m\u001b[0m\u001b[0;34m\u001b[0m\u001b[0m\n\u001b[0;32m----> 2\u001b[0;31m \u001b[0mdiv_tags\u001b[0m\u001b[0;34m[\u001b[0m\u001b[0;36m12\u001b[0m\u001b[0;34m]\u001b[0m\u001b[0;34m.\u001b[0m\u001b[0mfind\u001b[0m\u001b[0;34m(\u001b[0m\u001b[0;34m'span'\u001b[0m\u001b[0;34m,\u001b[0m \u001b[0mclass_\u001b[0m \u001b[0;34m=\u001b[0m \u001b[0mspan_selection_class\u001b[0m\u001b[0;34m)\u001b[0m\u001b[0;34m.\u001b[0m\u001b[0mtext\u001b[0m\u001b[0;34m\u001b[0m\u001b[0;34m\u001b[0m\u001b[0m\n\u001b[0m",
      "\u001b[0;31mAttributeError\u001b[0m: 'NoneType' object has no attribute 'text'"
     ]
    }
   ],
   "source": [
    "span_selection_class = 'a-size-small a-color-base'\n",
    "div_tags[12].find('span', class_ = span_selection_class).text"
   ]
  },
  {
   "cell_type": "code",
   "execution_count": 35,
   "metadata": {},
   "outputs": [
    {
     "data": {
      "text/plain": [
       "'/Harry-Potter-Philosophers-Stone-Rowling-ebook/dp/B019PIOJYU/ref=zg_bs_1318158031_sccl_1/000-0000000-0000000?pd_rd_i=B019PIOJYU&psc=1'"
      ]
     },
     "execution_count": 35,
     "metadata": {},
     "output_type": "execute_result"
    }
   ],
   "source": [
    "a_selection_tag = 'a-link-normal'\n",
    "div_tags[0].find('a', class_ = a_selection_tag)['href']"
   ]
  },
  {
   "cell_type": "code",
   "execution_count": 36,
   "metadata": {},
   "outputs": [
    {
     "data": {
      "text/plain": [
       "'https://amazon.in/Harry-Potter-Philosophers-Stone-Rowling-ebook/dp/B019PIOJYU/ref=zg_bs_1318158031_sccl_1/000-0000000-0000000?pd_rd_i=B019PIOJYU&psc=1'"
      ]
     },
     "execution_count": 36,
     "metadata": {},
     "output_type": "execute_result"
    }
   ],
   "source": [
    "# Book Url with a complete working link\n",
    "base_url = 'https://amazon.in'\n",
    "base_url + div_tags[0].find('a', class_ = a_selection_tag)['href']"
   ]
  },
  {
   "cell_type": "code",
   "execution_count": 37,
   "metadata": {},
   "outputs": [
    {
     "data": {
      "text/plain": [
       "<span class=\"a-icon-alt\">4.7 out of 5 stars</span>"
      ]
     },
     "execution_count": 37,
     "metadata": {},
     "output_type": "execute_result"
    }
   ],
   "source": [
    "# Number of star ratings\n",
    "span_selection_class = 'a-icon-alt'\n",
    "div_tags[0].find('span', class_ = span_selection_class)"
   ]
  },
  {
   "cell_type": "code",
   "execution_count": 38,
   "metadata": {},
   "outputs": [
    {
     "data": {
      "text/plain": [
       "'4.7 out of 5 stars'"
      ]
     },
     "execution_count": 38,
     "metadata": {},
     "output_type": "execute_result"
    }
   ],
   "source": [
    "div_tags[0].find('span', class_ = span_selection_class).text"
   ]
  },
  {
   "cell_type": "code",
   "execution_count": 39,
   "metadata": {},
   "outputs": [
    {
     "data": {
      "text/plain": [
       "<span class=\"a-size-small\">51,083</span>"
      ]
     },
     "execution_count": 39,
     "metadata": {},
     "output_type": "execute_result"
    }
   ],
   "source": [
    "# Number of ratings\n",
    "span_selection_class = 'a-size-small'\n",
    "div_tags[0].find('span', class_ = span_selection_class)"
   ]
  },
  {
   "cell_type": "code",
   "execution_count": 40,
   "metadata": {},
   "outputs": [
    {
     "data": {
      "text/plain": [
       "'51,083'"
      ]
     },
     "execution_count": 40,
     "metadata": {},
     "output_type": "execute_result"
    }
   ],
   "source": [
    "div_tags[0].find('span', class_ = span_selection_class).text"
   ]
  },
  {
   "cell_type": "code",
   "execution_count": 41,
   "metadata": {},
   "outputs": [
    {
     "data": {
      "text/plain": [
       "<span class=\"a-size-small a-color-secondary a-text-normal\">Kindle Edition</span>"
      ]
     },
     "execution_count": 41,
     "metadata": {},
     "output_type": "execute_result"
    }
   ],
   "source": [
    "# Book Type\n",
    "span_selection_class = 'a-size-small a-color-secondary a-text-normal'\n",
    "div_tags[0].find('span', class_ = span_selection_class)"
   ]
  },
  {
   "cell_type": "code",
   "execution_count": 42,
   "metadata": {},
   "outputs": [
    {
     "data": {
      "text/plain": [
       "'Kindle Edition'"
      ]
     },
     "execution_count": 42,
     "metadata": {},
     "output_type": "execute_result"
    }
   ],
   "source": [
    "div_tags[0].find('span', class_ = span_selection_class).text"
   ]
  },
  {
   "cell_type": "code",
   "execution_count": 43,
   "metadata": {},
   "outputs": [
    {
     "data": {
      "text/plain": [
       "<span class=\"p13n-sc-price\">₹149.00</span>"
      ]
     },
     "execution_count": 43,
     "metadata": {},
     "output_type": "execute_result"
    }
   ],
   "source": [
    "# Book Price\n",
    "span_selection_class = 'p13n-sc-price'\n",
    "div_tags[0].find('span', class_ = span_selection_class)"
   ]
  },
  {
   "cell_type": "code",
   "execution_count": 44,
   "metadata": {},
   "outputs": [
    {
     "data": {
      "text/plain": [
       "'₹149.00'"
      ]
     },
     "execution_count": 44,
     "metadata": {},
     "output_type": "execute_result"
    }
   ],
   "source": [
    "div_tags[0].find('span', class_ = span_selection_class).text"
   ]
  },
  {
   "cell_type": "code",
   "execution_count": 45,
   "metadata": {},
   "outputs": [],
   "source": [
    "def get_genre_info(doc):\n",
    "    #Selecting a parent tag\n",
    "    div_selection_class = '_p13n-zg-nav-tree-all_style_zg-browse-group__88fbz'\n",
    "    genre_div_tags = doc.find_all('div', class_ = div_selection_class)\n",
    "    \n",
    "    #Selecting a useful tag out of the parent tag\n",
    "    genre_tags = genre_div_tags[0].find_all('a')\n",
    "    \n",
    "    #List for genre_titles\n",
    "    genre_titles = []\n",
    "\n",
    "    for i in range(0, len(genre_tags)):\n",
    "        genre_titles.append(genre_tags[i].text)\n",
    "        \n",
    "    #List for genre_urls\n",
    "    genre_urls = []\n",
    "    base_url = 'https://www.amazon.in'\n",
    "    \n",
    "    \n",
    "    for i in range(0, len(genre_tags)):\n",
    "        genre_urls.append(base_url + genre_tags[i]['href'])\n",
    "    return genre_titles, genre_urls    "
   ]
  },
  {
   "cell_type": "code",
   "execution_count": 46,
   "metadata": {},
   "outputs": [],
   "source": [
    "def scrape_genres():\n",
    "    #Using request library to fetch the books genres\n",
    "    genre_url = 'https://www.amazon.in/gp/bestsellers/books/'\n",
    "    response = requests.get(genre_url)\n",
    "    \n",
    "    #Check the page requests success\n",
    "    if response.status_code != 200:\n",
    "        raise Exception('Failed to load page {}'.format(genre_url))\n",
    "    \n",
    "    #Creating a BeautifulSoup object\n",
    "    doc = BeautifulSoup(response.text, 'html.parser')\n",
    "    \n",
    "    #Genre dictionary to which lists from the get_genre_info are passed\n",
    "    genre_dic = {\n",
    "        'genre_titles': get_genre_info(doc)[0],\n",
    "        'genre_urls':get_genre_info(doc)[1]\n",
    "    }\n",
    "    return pd.DataFrame(genre_dic)"
   ]
  },
  {
   "cell_type": "code",
   "execution_count": 47,
   "metadata": {},
   "outputs": [
    {
     "data": {
      "text/html": [
       "<div>\n",
       "<style scoped>\n",
       "    .dataframe tbody tr th:only-of-type {\n",
       "        vertical-align: middle;\n",
       "    }\n",
       "\n",
       "    .dataframe tbody tr th {\n",
       "        vertical-align: top;\n",
       "    }\n",
       "\n",
       "    .dataframe thead th {\n",
       "        text-align: right;\n",
       "    }\n",
       "</style>\n",
       "<table border=\"1\" class=\"dataframe\">\n",
       "  <thead>\n",
       "    <tr style=\"text-align: right;\">\n",
       "      <th></th>\n",
       "      <th>genre_titles</th>\n",
       "      <th>genre_urls</th>\n",
       "    </tr>\n",
       "  </thead>\n",
       "  <tbody>\n",
       "    <tr>\n",
       "      <th>0</th>\n",
       "      <td>Action &amp; Adventure</td>\n",
       "      <td>https://www.amazon.in/gp/bestsellers/books/131...</td>\n",
       "    </tr>\n",
       "    <tr>\n",
       "      <th>1</th>\n",
       "      <td>Arts, Film &amp; Photography</td>\n",
       "      <td>https://www.amazon.in/gp/bestsellers/books/131...</td>\n",
       "    </tr>\n",
       "    <tr>\n",
       "      <th>2</th>\n",
       "      <td>Biographies, Diaries &amp; True Accounts</td>\n",
       "      <td>https://www.amazon.in/gp/bestsellers/books/131...</td>\n",
       "    </tr>\n",
       "    <tr>\n",
       "      <th>3</th>\n",
       "      <td>Business &amp; Economics</td>\n",
       "      <td>https://www.amazon.in/gp/bestsellers/books/131...</td>\n",
       "    </tr>\n",
       "    <tr>\n",
       "      <th>4</th>\n",
       "      <td>Children's &amp; Young Adult</td>\n",
       "      <td>https://www.amazon.in/gp/bestsellers/books/131...</td>\n",
       "    </tr>\n",
       "    <tr>\n",
       "      <th>5</th>\n",
       "      <td>Comics &amp; Mangas</td>\n",
       "      <td>https://www.amazon.in/gp/bestsellers/books/131...</td>\n",
       "    </tr>\n",
       "    <tr>\n",
       "      <th>6</th>\n",
       "      <td>Computing, Internet &amp; Digital Media</td>\n",
       "      <td>https://www.amazon.in/gp/bestsellers/books/131...</td>\n",
       "    </tr>\n",
       "    <tr>\n",
       "      <th>7</th>\n",
       "      <td>Crafts, Home &amp; Lifestyle</td>\n",
       "      <td>https://www.amazon.in/gp/bestsellers/books/131...</td>\n",
       "    </tr>\n",
       "    <tr>\n",
       "      <th>8</th>\n",
       "      <td>Crime, Thriller &amp; Mystery</td>\n",
       "      <td>https://www.amazon.in/gp/bestsellers/books/131...</td>\n",
       "    </tr>\n",
       "    <tr>\n",
       "      <th>9</th>\n",
       "      <td>Engineering</td>\n",
       "      <td>https://www.amazon.in/gp/bestsellers/books/229...</td>\n",
       "    </tr>\n",
       "    <tr>\n",
       "      <th>10</th>\n",
       "      <td>Exam Preparation</td>\n",
       "      <td>https://www.amazon.in/gp/bestsellers/books/414...</td>\n",
       "    </tr>\n",
       "    <tr>\n",
       "      <th>11</th>\n",
       "      <td>Fantasy, Horror &amp; Science Fiction</td>\n",
       "      <td>https://www.amazon.in/gp/bestsellers/books/140...</td>\n",
       "    </tr>\n",
       "    <tr>\n",
       "      <th>12</th>\n",
       "      <td>Health, Family &amp; Personal Development</td>\n",
       "      <td>https://www.amazon.in/gp/bestsellers/books/131...</td>\n",
       "    </tr>\n",
       "    <tr>\n",
       "      <th>13</th>\n",
       "      <td>Health, Fitness &amp; Nutrition</td>\n",
       "      <td>https://www.amazon.in/gp/bestsellers/books/230...</td>\n",
       "    </tr>\n",
       "    <tr>\n",
       "      <th>14</th>\n",
       "      <td>Higher Education Textbooks</td>\n",
       "      <td>https://www.amazon.in/gp/bestsellers/books/414...</td>\n",
       "    </tr>\n",
       "    <tr>\n",
       "      <th>15</th>\n",
       "      <td>Historical Fiction</td>\n",
       "      <td>https://www.amazon.in/gp/bestsellers/books/131...</td>\n",
       "    </tr>\n",
       "    <tr>\n",
       "      <th>16</th>\n",
       "      <td>History</td>\n",
       "      <td>https://www.amazon.in/gp/bestsellers/books/414...</td>\n",
       "    </tr>\n",
       "    <tr>\n",
       "      <th>17</th>\n",
       "      <td>Humour</td>\n",
       "      <td>https://www.amazon.in/gp/bestsellers/books/131...</td>\n",
       "    </tr>\n",
       "    <tr>\n",
       "      <th>18</th>\n",
       "      <td>Language, Linguistics &amp; Writing</td>\n",
       "      <td>https://www.amazon.in/gp/bestsellers/books/131...</td>\n",
       "    </tr>\n",
       "    <tr>\n",
       "      <th>19</th>\n",
       "      <td>Law</td>\n",
       "      <td>https://www.amazon.in/gp/bestsellers/books/414...</td>\n",
       "    </tr>\n",
       "    <tr>\n",
       "      <th>20</th>\n",
       "      <td>Literature &amp; Fiction</td>\n",
       "      <td>https://www.amazon.in/gp/bestsellers/books/131...</td>\n",
       "    </tr>\n",
       "    <tr>\n",
       "      <th>21</th>\n",
       "      <td>Maps &amp; Atlases</td>\n",
       "      <td>https://www.amazon.in/gp/bestsellers/books/131...</td>\n",
       "    </tr>\n",
       "    <tr>\n",
       "      <th>22</th>\n",
       "      <td>Medicine &amp; Health Sciences</td>\n",
       "      <td>https://www.amazon.in/gp/bestsellers/books/414...</td>\n",
       "    </tr>\n",
       "    <tr>\n",
       "      <th>23</th>\n",
       "      <td>Politics</td>\n",
       "      <td>https://www.amazon.in/gp/bestsellers/books/131...</td>\n",
       "    </tr>\n",
       "    <tr>\n",
       "      <th>24</th>\n",
       "      <td>Reference</td>\n",
       "      <td>https://www.amazon.in/gp/bestsellers/books/131...</td>\n",
       "    </tr>\n",
       "    <tr>\n",
       "      <th>25</th>\n",
       "      <td>Religion</td>\n",
       "      <td>https://www.amazon.in/gp/bestsellers/books/131...</td>\n",
       "    </tr>\n",
       "    <tr>\n",
       "      <th>26</th>\n",
       "      <td>Romance</td>\n",
       "      <td>https://www.amazon.in/gp/bestsellers/books/131...</td>\n",
       "    </tr>\n",
       "    <tr>\n",
       "      <th>27</th>\n",
       "      <td>School Books</td>\n",
       "      <td>https://www.amazon.in/gp/bestsellers/books/414...</td>\n",
       "    </tr>\n",
       "    <tr>\n",
       "      <th>28</th>\n",
       "      <td>Science &amp; Mathematics</td>\n",
       "      <td>https://www.amazon.in/gp/bestsellers/books/414...</td>\n",
       "    </tr>\n",
       "    <tr>\n",
       "      <th>29</th>\n",
       "      <td>Sciences, Technology &amp; Medicine</td>\n",
       "      <td>https://www.amazon.in/gp/bestsellers/books/131...</td>\n",
       "    </tr>\n",
       "    <tr>\n",
       "      <th>30</th>\n",
       "      <td>Society &amp; Social Sciences</td>\n",
       "      <td>https://www.amazon.in/gp/bestsellers/books/131...</td>\n",
       "    </tr>\n",
       "    <tr>\n",
       "      <th>31</th>\n",
       "      <td>Sports</td>\n",
       "      <td>https://www.amazon.in/gp/bestsellers/books/131...</td>\n",
       "    </tr>\n",
       "    <tr>\n",
       "      <th>32</th>\n",
       "      <td>Textbooks &amp; Study Guides</td>\n",
       "      <td>https://www.amazon.in/gp/bestsellers/books/154...</td>\n",
       "    </tr>\n",
       "    <tr>\n",
       "      <th>33</th>\n",
       "      <td>Travel</td>\n",
       "      <td>https://www.amazon.in/gp/bestsellers/books/131...</td>\n",
       "    </tr>\n",
       "  </tbody>\n",
       "</table>\n",
       "</div>"
      ],
      "text/plain": [
       "                             genre_titles  \\\n",
       "0                      Action & Adventure   \n",
       "1                Arts, Film & Photography   \n",
       "2    Biographies, Diaries & True Accounts   \n",
       "3                    Business & Economics   \n",
       "4                Children's & Young Adult   \n",
       "5                         Comics & Mangas   \n",
       "6     Computing, Internet & Digital Media   \n",
       "7                Crafts, Home & Lifestyle   \n",
       "8               Crime, Thriller & Mystery   \n",
       "9                             Engineering   \n",
       "10                       Exam Preparation   \n",
       "11      Fantasy, Horror & Science Fiction   \n",
       "12  Health, Family & Personal Development   \n",
       "13            Health, Fitness & Nutrition   \n",
       "14             Higher Education Textbooks   \n",
       "15                     Historical Fiction   \n",
       "16                                History   \n",
       "17                                 Humour   \n",
       "18        Language, Linguistics & Writing   \n",
       "19                                    Law   \n",
       "20                   Literature & Fiction   \n",
       "21                         Maps & Atlases   \n",
       "22             Medicine & Health Sciences   \n",
       "23                               Politics   \n",
       "24                              Reference   \n",
       "25                               Religion   \n",
       "26                                Romance   \n",
       "27                           School Books   \n",
       "28                  Science & Mathematics   \n",
       "29        Sciences, Technology & Medicine   \n",
       "30              Society & Social Sciences   \n",
       "31                                 Sports   \n",
       "32               Textbooks & Study Guides   \n",
       "33                                 Travel   \n",
       "\n",
       "                                           genre_urls  \n",
       "0   https://www.amazon.in/gp/bestsellers/books/131...  \n",
       "1   https://www.amazon.in/gp/bestsellers/books/131...  \n",
       "2   https://www.amazon.in/gp/bestsellers/books/131...  \n",
       "3   https://www.amazon.in/gp/bestsellers/books/131...  \n",
       "4   https://www.amazon.in/gp/bestsellers/books/131...  \n",
       "5   https://www.amazon.in/gp/bestsellers/books/131...  \n",
       "6   https://www.amazon.in/gp/bestsellers/books/131...  \n",
       "7   https://www.amazon.in/gp/bestsellers/books/131...  \n",
       "8   https://www.amazon.in/gp/bestsellers/books/131...  \n",
       "9   https://www.amazon.in/gp/bestsellers/books/229...  \n",
       "10  https://www.amazon.in/gp/bestsellers/books/414...  \n",
       "11  https://www.amazon.in/gp/bestsellers/books/140...  \n",
       "12  https://www.amazon.in/gp/bestsellers/books/131...  \n",
       "13  https://www.amazon.in/gp/bestsellers/books/230...  \n",
       "14  https://www.amazon.in/gp/bestsellers/books/414...  \n",
       "15  https://www.amazon.in/gp/bestsellers/books/131...  \n",
       "16  https://www.amazon.in/gp/bestsellers/books/414...  \n",
       "17  https://www.amazon.in/gp/bestsellers/books/131...  \n",
       "18  https://www.amazon.in/gp/bestsellers/books/131...  \n",
       "19  https://www.amazon.in/gp/bestsellers/books/414...  \n",
       "20  https://www.amazon.in/gp/bestsellers/books/131...  \n",
       "21  https://www.amazon.in/gp/bestsellers/books/131...  \n",
       "22  https://www.amazon.in/gp/bestsellers/books/414...  \n",
       "23  https://www.amazon.in/gp/bestsellers/books/131...  \n",
       "24  https://www.amazon.in/gp/bestsellers/books/131...  \n",
       "25  https://www.amazon.in/gp/bestsellers/books/131...  \n",
       "26  https://www.amazon.in/gp/bestsellers/books/131...  \n",
       "27  https://www.amazon.in/gp/bestsellers/books/414...  \n",
       "28  https://www.amazon.in/gp/bestsellers/books/414...  \n",
       "29  https://www.amazon.in/gp/bestsellers/books/131...  \n",
       "30  https://www.amazon.in/gp/bestsellers/books/131...  \n",
       "31  https://www.amazon.in/gp/bestsellers/books/131...  \n",
       "32  https://www.amazon.in/gp/bestsellers/books/154...  \n",
       "33  https://www.amazon.in/gp/bestsellers/books/131...  "
      ]
     },
     "execution_count": 47,
     "metadata": {},
     "output_type": "execute_result"
    }
   ],
   "source": [
    "scrape_genres()"
   ]
  },
  {
   "cell_type": "code",
   "execution_count": 48,
   "metadata": {},
   "outputs": [],
   "source": [
    "def genre_books_info(div_tags):\n",
    "    # Tag for the Book Name\n",
    "    Book_Name_tags = div_tags.find('span')\n",
    "    \n",
    "    # Tag for the Author's Name\n",
    "    Author_Name_tags = div_tags.find(['a', 'span'], class_ = ['a-size-small a-link-child', 'a-size-small a-color-base'])\n",
    "    \n",
    "    # Book URL\n",
    "    Book_URL = 'https://amazon.in' + div_tags.find('a', class_ = 'a-link-normal')['href']\n",
    "    \n",
    "    # Tag for the Book Type\n",
    "    Book_Type_tags = div_tags.find('span', class_ = 'a-size-small a-color-secondary a-text-normal')\n",
    "    \n",
    "    # Tag for Book Price\n",
    "    Price_tags = div_tags.find('span', class_ = 'p13n-sc-price')\n",
    "    \n",
    "    # Tag for the number of stars\n",
    "    Star_Rating_tags = div_tags.find('span', class_ = 'a-icon-alt')\n",
    "    \n",
    "    # Tag for the number of reviews\n",
    "    Reviews_tags = div_tags.find('div', class_ = 'a-icon-row')\n",
    "    \n",
    "    return Book_Name_tags, Author_Name_tags, Book_URL, Book_Type_tags, Price_tags, Star_Rating_tags, Reviews_tags"
   ]
  },
  {
   "cell_type": "code",
   "execution_count": 49,
   "metadata": {},
   "outputs": [],
   "source": [
    "genre_books_dict = {\n",
    "    'Book_Name':[],\n",
    "    'Author_Name':[],\n",
    "    'Book_URL':[],\n",
    "    'Book_Type':[],\n",
    "    'Price':[],\n",
    "    'Star_Rating':[],\n",
    "    'Reviews':[]\n",
    "}\n",
    "\n",
    "for i in range(0, len(div_tags)):\n",
    "    genre_info = genre_books_info(div_tags[i])\n",
    "    if genre_info[0] is not None:\n",
    "        genre_books_dict['Book_Name'].append(genre_info[0].text)\n",
    "    else:\n",
    "        genre_books_dict['Book_Name'].append('Missing')\n",
    "        \n",
    "    if genre_info[1] is not None:\n",
    "        genre_books_dict['Author_Name'].append(genre_info[1].text)\n",
    "    else:\n",
    "        genre_books_dict['Author_Name'].append('Missing')\n",
    "        \n",
    "    if genre_info[2] is not None:\n",
    "        genre_books_dict['Book_URL'].append(genre_info[2])\n",
    "    else:\n",
    "        genre_books_dict['Book_URL'].append('Missing')\n",
    "        \n",
    "    if genre_info[3] is not None:\n",
    "        genre_books_dict['Book_Type'].append(genre_info[3].text)\n",
    "    else:\n",
    "        genre_books_dict['Book_Type'].append('Missing')\n",
    "        \n",
    "    if genre_info[4] is not None:\n",
    "        genre_books_dict['Price'].append(genre_info[4].text)\n",
    "    else:\n",
    "        genre_books_dict['Price'].append('Missing')\n",
    "        \n",
    "    if genre_info[5] is not None:\n",
    "        genre_books_dict['Star_Rating'].append(genre_info[5].text)\n",
    "    else:\n",
    "        genre_books_dict['Star_Rating'].append('Missing')\n",
    "        \n",
    "    if genre_info[6] is not None:\n",
    "        genre_books_dict['Reviews'].append(genre_info[6].find('span', class_ = 'a-size-small').text)\n",
    "    else:\n",
    "        genre_books_dict['Reviews'].append('Missing')"
   ]
  },
  {
   "cell_type": "code",
   "execution_count": 50,
   "metadata": {},
   "outputs": [],
   "source": [
    "genre_url_1 = 'https://www.amazon.in/gp/bestsellers/books/1318158031/'\n",
    "reponse = requests.get(genre_url_1)"
   ]
  },
  {
   "cell_type": "code",
   "execution_count": 51,
   "metadata": {},
   "outputs": [],
   "source": [
    "genre_doc = BeautifulSoup(response.text, 'html.parser')"
   ]
  },
  {
   "cell_type": "code",
   "execution_count": 52,
   "metadata": {},
   "outputs": [],
   "source": [
    "div_selection_class = 'zg-grid-general-faceout'\n",
    "div_tags = genre_doc.find_all('div', class_ = div_selection_class )"
   ]
  },
  {
   "cell_type": "code",
   "execution_count": 53,
   "metadata": {},
   "outputs": [
    {
     "data": {
      "text/html": [
       "<div>\n",
       "<style scoped>\n",
       "    .dataframe tbody tr th:only-of-type {\n",
       "        vertical-align: middle;\n",
       "    }\n",
       "\n",
       "    .dataframe tbody tr th {\n",
       "        vertical-align: top;\n",
       "    }\n",
       "\n",
       "    .dataframe thead th {\n",
       "        text-align: right;\n",
       "    }\n",
       "</style>\n",
       "<table border=\"1\" class=\"dataframe\">\n",
       "  <thead>\n",
       "    <tr style=\"text-align: right;\">\n",
       "      <th></th>\n",
       "      <th>Book_Name</th>\n",
       "      <th>Author_Name</th>\n",
       "      <th>Book_URL</th>\n",
       "      <th>Book_Type</th>\n",
       "      <th>Price</th>\n",
       "      <th>Star_Rating</th>\n",
       "      <th>Reviews</th>\n",
       "    </tr>\n",
       "  </thead>\n",
       "  <tbody>\n",
       "    <tr>\n",
       "      <th>0</th>\n",
       "      <td>Harry Potter and the Philosopher's Stone</td>\n",
       "      <td>J.K. Rowling</td>\n",
       "      <td>https://amazon.in/Harry-Potter-Philosophers-St...</td>\n",
       "      <td>Kindle Edition</td>\n",
       "      <td>₹149.00</td>\n",
       "      <td>4.7 out of 5 stars</td>\n",
       "      <td>51,083</td>\n",
       "    </tr>\n",
       "    <tr>\n",
       "      <th>1</th>\n",
       "      <td>Kadhal Kana (காதல் கனா) (Tamil Edition)</td>\n",
       "      <td>Rishi ரிஷி</td>\n",
       "      <td>https://amazon.in/Kadhal-Kana-%E0%AE%95%E0%AE%...</td>\n",
       "      <td>Kindle Edition</td>\n",
       "      <td>₹110.00</td>\n",
       "      <td>4.3 out of 5 stars</td>\n",
       "      <td>11</td>\n",
       "    </tr>\n",
       "    <tr>\n",
       "      <th>2</th>\n",
       "      <td>War of Lanka (Ram Chandra Series Book 4)</td>\n",
       "      <td>Amish Tripathi</td>\n",
       "      <td>https://amazon.in/War-Lanka-Ram-Chandra-Book/d...</td>\n",
       "      <td>Paperback</td>\n",
       "      <td>₹380.00</td>\n",
       "      <td>Missing</td>\n",
       "      <td>Missing</td>\n",
       "    </tr>\n",
       "    <tr>\n",
       "      <th>3</th>\n",
       "      <td>THE SILENT PATIENT</td>\n",
       "      <td>Alex Michaelides</td>\n",
       "      <td>https://amazon.in/Silent-Patient-Alex-Michaeli...</td>\n",
       "      <td>Paperback</td>\n",
       "      <td>₹232.00</td>\n",
       "      <td>4.5 out of 5 stars</td>\n",
       "      <td>122,084</td>\n",
       "    </tr>\n",
       "    <tr>\n",
       "      <th>4</th>\n",
       "      <td>The Complete Novels of Sherlock Holmes</td>\n",
       "      <td>Arthur Conan Doyle</td>\n",
       "      <td>https://amazon.in/Complete-Novels-Sherlock-Hol...</td>\n",
       "      <td>Paperback</td>\n",
       "      <td>₹131.00</td>\n",
       "      <td>4.5 out of 5 stars</td>\n",
       "      <td>14,260</td>\n",
       "    </tr>\n",
       "    <tr>\n",
       "      <th>5</th>\n",
       "      <td>Something I Never Told You</td>\n",
       "      <td>Shravya Bhinder</td>\n",
       "      <td>https://amazon.in/Something-I-Never-Told-You/d...</td>\n",
       "      <td>Paperback</td>\n",
       "      <td>₹138.00</td>\n",
       "      <td>4.3 out of 5 stars</td>\n",
       "      <td>1,982</td>\n",
       "    </tr>\n",
       "    <tr>\n",
       "      <th>6</th>\n",
       "      <td>On Earth We're Briefly Gorgeous</td>\n",
       "      <td>Ocean Vuong</td>\n",
       "      <td>https://amazon.in/Earth-Were-Briefly-Gorgeous/...</td>\n",
       "      <td>Paperback</td>\n",
       "      <td>₹224.00</td>\n",
       "      <td>4.4 out of 5 stars</td>\n",
       "      <td>9,882</td>\n",
       "    </tr>\n",
       "    <tr>\n",
       "      <th>7</th>\n",
       "      <td>The Hidden Hindu</td>\n",
       "      <td>Akshat Gupta</td>\n",
       "      <td>https://amazon.in/Hidden-Hindu-Akshat-Gupta/dp...</td>\n",
       "      <td>Paperback</td>\n",
       "      <td>₹172.00</td>\n",
       "      <td>4.4 out of 5 stars</td>\n",
       "      <td>450</td>\n",
       "    </tr>\n",
       "    <tr>\n",
       "      <th>8</th>\n",
       "      <td>Harry Potter and the Chamber of Secrets</td>\n",
       "      <td>J.K. Rowling</td>\n",
       "      <td>https://amazon.in/Harry-Potter-Chamber-Secrets...</td>\n",
       "      <td>Kindle Edition</td>\n",
       "      <td>₹170.00</td>\n",
       "      <td>4.7 out of 5 stars</td>\n",
       "      <td>39,463</td>\n",
       "    </tr>\n",
       "    <tr>\n",
       "      <th>9</th>\n",
       "      <td>The Magicians of Mazda Paperback – 21 May 2022</td>\n",
       "      <td>Ashwin Sanghi</td>\n",
       "      <td>https://amazon.in/Magicians-Mazda-Paperback-21...</td>\n",
       "      <td>Paperback</td>\n",
       "      <td>₹308.00</td>\n",
       "      <td>4.5 out of 5 stars</td>\n",
       "      <td>923</td>\n",
       "    </tr>\n",
       "    <tr>\n",
       "      <th>10</th>\n",
       "      <td>The Secret Garden</td>\n",
       "      <td>Frances Hodgson Burnett</td>\n",
       "      <td>https://amazon.in/Secret-Garden-Frances-Hodgso...</td>\n",
       "      <td>Paperback</td>\n",
       "      <td>₹118.00</td>\n",
       "      <td>4.4 out of 5 stars</td>\n",
       "      <td>11,336</td>\n",
       "    </tr>\n",
       "    <tr>\n",
       "      <th>11</th>\n",
       "      <td>Harry Potter and the Goblet of Fire</td>\n",
       "      <td>J.K. Rowling</td>\n",
       "      <td>https://amazon.in/Harry-Potter-Goblet-Fire-Row...</td>\n",
       "      <td>Kindle Edition</td>\n",
       "      <td>₹105.00</td>\n",
       "      <td>4.7 out of 5 stars</td>\n",
       "      <td>29,882</td>\n",
       "    </tr>\n",
       "    <tr>\n",
       "      <th>12</th>\n",
       "      <td>Harry Potter and the Prisoner of Azkaban</td>\n",
       "      <td>J.K. Rowling</td>\n",
       "      <td>https://amazon.in/Harry-Potter-Prisoner-Azkaba...</td>\n",
       "      <td>Kindle Edition</td>\n",
       "      <td>₹105.00</td>\n",
       "      <td>4.7 out of 5 stars</td>\n",
       "      <td>33,050</td>\n",
       "    </tr>\n",
       "    <tr>\n",
       "      <th>13</th>\n",
       "      <td>The 1st Assassin: A Unit 22 Thriller</td>\n",
       "      <td>Mainak Dhar</td>\n",
       "      <td>https://amazon.in/1st-Assassin-Unit-22-Thrille...</td>\n",
       "      <td>Kindle Edition</td>\n",
       "      <td>₹99.00</td>\n",
       "      <td>4.6 out of 5 stars</td>\n",
       "      <td>30</td>\n",
       "    </tr>\n",
       "    <tr>\n",
       "      <th>14</th>\n",
       "      <td>Diary of a Wimpy Kid: The Deep End (Book 15)</td>\n",
       "      <td>Jeff Kinney</td>\n",
       "      <td>https://amazon.in/Diary-Wimpy-Kid-Deep-Book/dp...</td>\n",
       "      <td>Paperback</td>\n",
       "      <td>₹227.50</td>\n",
       "      <td>4.7 out of 5 stars</td>\n",
       "      <td>7,730</td>\n",
       "    </tr>\n",
       "    <tr>\n",
       "      <th>15</th>\n",
       "      <td>Harry Potter and the Half-Blood Prince</td>\n",
       "      <td>J.K. Rowling</td>\n",
       "      <td>https://amazon.in/Harry-Potter-Half-Blood-Prin...</td>\n",
       "      <td>Kindle Edition</td>\n",
       "      <td>₹111.00</td>\n",
       "      <td>4.7 out of 5 stars</td>\n",
       "      <td>31,916</td>\n",
       "    </tr>\n",
       "    <tr>\n",
       "      <th>16</th>\n",
       "      <td>Harry Potter and the Order of the Phoenix</td>\n",
       "      <td>J.K. Rowling</td>\n",
       "      <td>https://amazon.in/Harry-Potter-Order-Phoenix-R...</td>\n",
       "      <td>Kindle Edition</td>\n",
       "      <td>₹111.00</td>\n",
       "      <td>4.7 out of 5 stars</td>\n",
       "      <td>27,627</td>\n",
       "    </tr>\n",
       "    <tr>\n",
       "      <th>17</th>\n",
       "      <td>Harry Potter and the Deathly Hallows</td>\n",
       "      <td>J.K. Rowling</td>\n",
       "      <td>https://amazon.in/Harry-Potter-Deathly-Hallows...</td>\n",
       "      <td>Kindle Edition</td>\n",
       "      <td>₹105.00</td>\n",
       "      <td>4.7 out of 5 stars</td>\n",
       "      <td>34,490</td>\n",
       "    </tr>\n",
       "    <tr>\n",
       "      <th>18</th>\n",
       "      <td>SIX OF CROWS: CROOKED KINGDOM (B PB)</td>\n",
       "      <td>Leigh Bardugo</td>\n",
       "      <td>https://amazon.in/Six-Crows-Crooked-Kingdom-Bo...</td>\n",
       "      <td>Paperback</td>\n",
       "      <td>₹359.00</td>\n",
       "      <td>4.7 out of 5 stars</td>\n",
       "      <td>22,087</td>\n",
       "    </tr>\n",
       "    <tr>\n",
       "      <th>19</th>\n",
       "      <td>பெண் மீன் விழியில் BODYGUARD (Tamil Edition)</td>\n",
       "      <td>Mithra E</td>\n",
       "      <td>https://amazon.in/%E0%AE%AA%E0%AF%86%E0%AE%A3%...</td>\n",
       "      <td>Kindle Edition</td>\n",
       "      <td>₹1,299.00</td>\n",
       "      <td>3.8 out of 5 stars</td>\n",
       "      <td>25</td>\n",
       "    </tr>\n",
       "    <tr>\n",
       "      <th>20</th>\n",
       "      <td>அன்புள்ள மாயவனே (Tamil Edition)</td>\n",
       "      <td>ammu yoga</td>\n",
       "      <td>https://amazon.in/%E0%AE%85%E0%AE%A9%E0%AF%8D%...</td>\n",
       "      <td>Kindle Edition</td>\n",
       "      <td>₹449.00</td>\n",
       "      <td>4.3 out of 5 stars</td>\n",
       "      <td>137</td>\n",
       "    </tr>\n",
       "    <tr>\n",
       "      <th>21</th>\n",
       "      <td>The Complete Adventures of Feluda Vol. 1</td>\n",
       "      <td>Satyajit Ray</td>\n",
       "      <td>https://amazon.in/Complete-Adventures-Feluda-V...</td>\n",
       "      <td>Paperback</td>\n",
       "      <td>₹334.00</td>\n",
       "      <td>4.7 out of 5 stars</td>\n",
       "      <td>932</td>\n",
       "    </tr>\n",
       "    <tr>\n",
       "      <th>22</th>\n",
       "      <td>THE FINE PRINT: the TikTok sensation! Meet the...</td>\n",
       "      <td>Lauren Asher</td>\n",
       "      <td>https://amazon.in/Fine-Print-sensation-Dreamla...</td>\n",
       "      <td>Paperback</td>\n",
       "      <td>₹193.00</td>\n",
       "      <td>4.3 out of 5 stars</td>\n",
       "      <td>12,212</td>\n",
       "    </tr>\n",
       "    <tr>\n",
       "      <th>23</th>\n",
       "      <td>SIX OF CROWS: CROOKED KINGDOM(COLLECTOR'S EDIT...</td>\n",
       "      <td>Leigh Bardugo</td>\n",
       "      <td>https://amazon.in/Crooked-Kingdom-Collectors-S...</td>\n",
       "      <td>Hardcover</td>\n",
       "      <td>₹594.00</td>\n",
       "      <td>4.7 out of 5 stars</td>\n",
       "      <td>22,087</td>\n",
       "    </tr>\n",
       "    <tr>\n",
       "      <th>24</th>\n",
       "      <td>Baby Touch: Tummy Time</td>\n",
       "      <td>Ladybird</td>\n",
       "      <td>https://amazon.in/Baby-Touch-Tummy-Time/dp/024...</td>\n",
       "      <td>Board book</td>\n",
       "      <td>₹329.00</td>\n",
       "      <td>4.5 out of 5 stars</td>\n",
       "      <td>1,281</td>\n",
       "    </tr>\n",
       "    <tr>\n",
       "      <th>25</th>\n",
       "      <td>Whisper to Me Your Lies by Novoneel Chakrabort...</td>\n",
       "      <td>Novoneel Chakraborty</td>\n",
       "      <td>https://amazon.in/Whisper-Me-Your-Lies-Thrille...</td>\n",
       "      <td>Paperback</td>\n",
       "      <td>₹139.00</td>\n",
       "      <td>4.6 out of 5 stars</td>\n",
       "      <td>419</td>\n",
       "    </tr>\n",
       "    <tr>\n",
       "      <th>26</th>\n",
       "      <td>Beach Read (Lead Title)</td>\n",
       "      <td>Emily Henry</td>\n",
       "      <td>https://amazon.in/Beach-Read-laugh-out-loud-es...</td>\n",
       "      <td>Paperback</td>\n",
       "      <td>₹259.00</td>\n",
       "      <td>4.2 out of 5 stars</td>\n",
       "      <td>36,755</td>\n",
       "    </tr>\n",
       "    <tr>\n",
       "      <th>27</th>\n",
       "      <td>காலங்களில் அவள் வசந்தம் (Tamil Edition)</td>\n",
       "      <td>Sashi  Murali</td>\n",
       "      <td>https://amazon.in/%E0%AE%95%E0%AE%BE%E0%AE%B2%...</td>\n",
       "      <td>Kindle Edition</td>\n",
       "      <td>₹761.00</td>\n",
       "      <td>4.5 out of 5 stars</td>\n",
       "      <td>419</td>\n",
       "    </tr>\n",
       "    <tr>\n",
       "      <th>28</th>\n",
       "      <td>Project Hail Mary: From the bestselling author...</td>\n",
       "      <td>Andy Weir</td>\n",
       "      <td>https://amazon.in/Project-Hail-Mary-bestsellin...</td>\n",
       "      <td>Paperback</td>\n",
       "      <td>₹404.00</td>\n",
       "      <td>4.7 out of 5 stars</td>\n",
       "      <td>77,350</td>\n",
       "    </tr>\n",
       "    <tr>\n",
       "      <th>29</th>\n",
       "      <td>A Thousand Kisses Deep: A Romance Thriller Fic...</td>\n",
       "      <td>Novoneel Chakraborty</td>\n",
       "      <td>https://amazon.in/Thousand-Kisses-Deep-Thrille...</td>\n",
       "      <td>Paperback</td>\n",
       "      <td>₹139.00</td>\n",
       "      <td>4.4 out of 5 stars</td>\n",
       "      <td>40</td>\n",
       "    </tr>\n",
       "    <tr>\n",
       "      <th>30</th>\n",
       "      <td>House of Earth and Blood (Crescent City)</td>\n",
       "      <td>Sarah J. Maas</td>\n",
       "      <td>https://amazon.in/House-Earth-Blood-Crescent-C...</td>\n",
       "      <td>Paperback</td>\n",
       "      <td>₹517.00</td>\n",
       "      <td>4.7 out of 5 stars</td>\n",
       "      <td>34,794</td>\n",
       "    </tr>\n",
       "    <tr>\n",
       "      <th>31</th>\n",
       "      <td>FAVOURITE STORIES OF COURAGEOUS GIRLS</td>\n",
       "      <td>Louisa May Alcott</td>\n",
       "      <td>https://amazon.in/Favourite-Stories-Courageous...</td>\n",
       "      <td>Paperback</td>\n",
       "      <td>₹366.00</td>\n",
       "      <td>4.4 out of 5 stars</td>\n",
       "      <td>262</td>\n",
       "    </tr>\n",
       "    <tr>\n",
       "      <th>32</th>\n",
       "      <td>War Of Lanka (Ram Chandra Series Book 4)</td>\n",
       "      <td>Amish Tripathi</td>\n",
       "      <td>https://amazon.in/War-Lanka-Ram-Chandra-Book-e...</td>\n",
       "      <td>Kindle Edition</td>\n",
       "      <td>₹279.30</td>\n",
       "      <td>Missing</td>\n",
       "      <td>Missing</td>\n",
       "    </tr>\n",
       "    <tr>\n",
       "      <th>33</th>\n",
       "      <td>Harry Potter and the Goblet of Fire: Illustrat...</td>\n",
       "      <td>J.K. Rowling</td>\n",
       "      <td>https://amazon.in/Hp-Goblet-Fire-Ill-ed/dp/140...</td>\n",
       "      <td>Hardcover</td>\n",
       "      <td>₹904.00</td>\n",
       "      <td>4.8 out of 5 stars</td>\n",
       "      <td>23,697</td>\n",
       "    </tr>\n",
       "    <tr>\n",
       "      <th>34</th>\n",
       "      <td>The Magicians Of Mazda: Bharat Series 7</td>\n",
       "      <td>Ashwin Sanghi</td>\n",
       "      <td>https://amazon.in/Magicians-Mazda-Bharat-7-ebo...</td>\n",
       "      <td>Kindle Edition</td>\n",
       "      <td>₹252.00</td>\n",
       "      <td>4.5 out of 5 stars</td>\n",
       "      <td>923</td>\n",
       "    </tr>\n",
       "    <tr>\n",
       "      <th>35</th>\n",
       "      <td>The Goods Train Mystery: A Fun Read for 7-12 y...</td>\n",
       "      <td>Nalini Varanasi</td>\n",
       "      <td>https://amazon.in/Goods-Train-Mystery-Read-7-1...</td>\n",
       "      <td>Paperback</td>\n",
       "      <td>₹89.00</td>\n",
       "      <td>4.0 out of 5 stars</td>\n",
       "      <td>8</td>\n",
       "    </tr>\n",
       "    <tr>\n",
       "      <th>36</th>\n",
       "      <td>Midnight's Children</td>\n",
       "      <td>Salman Rushdie</td>\n",
       "      <td>https://amazon.in/Midnights-Children-Salman-Ru...</td>\n",
       "      <td>Paperback</td>\n",
       "      <td>₹328.00</td>\n",
       "      <td>4.4 out of 5 stars</td>\n",
       "      <td>2,884</td>\n",
       "    </tr>\n",
       "    <tr>\n",
       "      <th>37</th>\n",
       "      <td>The Holiday: NOW A MAJOR NETFLIX DRAMA</td>\n",
       "      <td>T.M. Logan</td>\n",
       "      <td>https://amazon.in/Holiday-T-M-Logan-ebook/dp/B...</td>\n",
       "      <td>Kindle Edition</td>\n",
       "      <td>₹249.85</td>\n",
       "      <td>4.2 out of 5 stars</td>\n",
       "      <td>14,297</td>\n",
       "    </tr>\n",
       "    <tr>\n",
       "      <th>38</th>\n",
       "      <td>The Wind In The Willows</td>\n",
       "      <td>Kenneth Grahame</td>\n",
       "      <td>https://amazon.in/Wind-Willows-Kenneth-Grahame...</td>\n",
       "      <td>Paperback</td>\n",
       "      <td>₹99.00</td>\n",
       "      <td>4.4 out of 5 stars</td>\n",
       "      <td>5,614</td>\n",
       "    </tr>\n",
       "    <tr>\n",
       "      <th>39</th>\n",
       "      <td>The Enormous Crocodile</td>\n",
       "      <td>Roald Dahl</td>\n",
       "      <td>https://amazon.in/Enormous-Crocodile-Dahl-Fict...</td>\n",
       "      <td>Paperback</td>\n",
       "      <td>₹230.93</td>\n",
       "      <td>4.6 out of 5 stars</td>\n",
       "      <td>3,713</td>\n",
       "    </tr>\n",
       "    <tr>\n",
       "      <th>40</th>\n",
       "      <td>गर्म बहू: Parents-in law are the new victims o...</td>\n",
       "      <td>Chander  Malhotra</td>\n",
       "      <td>https://amazon.in/%E0%A4%97%E0%A4%B0%E0%A5%8D%...</td>\n",
       "      <td>Kindle Edition</td>\n",
       "      <td>₹150.00</td>\n",
       "      <td>3.5 out of 5 stars</td>\n",
       "      <td>2</td>\n",
       "    </tr>\n",
       "    <tr>\n",
       "      <th>41</th>\n",
       "      <td>THE BOOK OF ICHIGO ICHIE</td>\n",
       "      <td>Francesc Miralles</td>\n",
       "      <td>https://amazon.in/Book-Ichigo-Ichie-Making-Jap...</td>\n",
       "      <td>Hardcover</td>\n",
       "      <td>₹323.00</td>\n",
       "      <td>4.6 out of 5 stars</td>\n",
       "      <td>1,284</td>\n",
       "    </tr>\n",
       "    <tr>\n",
       "      <th>42</th>\n",
       "      <td>A Game of Thrones: Book 1 of A Song of Ice and...</td>\n",
       "      <td>Roy Dotrice</td>\n",
       "      <td>https://amazon.in/Game-Thrones-Book-Song-Fire/...</td>\n",
       "      <td>Audible Audiobook</td>\n",
       "      <td>₹1,025.00</td>\n",
       "      <td>4.6 out of 5 stars</td>\n",
       "      <td>22,836</td>\n",
       "    </tr>\n",
       "    <tr>\n",
       "      <th>43</th>\n",
       "      <td>FANTASTIC BEASTS: THE SECRETS OF DUMBLEDORE – ...</td>\n",
       "      <td>J.K. Rowling</td>\n",
       "      <td>https://amazon.in/Fantastic-Beasts-Dumbledore-...</td>\n",
       "      <td>Hardcover</td>\n",
       "      <td>₹584.35</td>\n",
       "      <td>4.6 out of 5 stars</td>\n",
       "      <td>226</td>\n",
       "    </tr>\n",
       "    <tr>\n",
       "      <th>44</th>\n",
       "      <td>The Book Thief: TikTok made me buy it! The lif...</td>\n",
       "      <td>Markus Zusak</td>\n",
       "      <td>https://amazon.in/Book-Thief-10th-Anniversary-...</td>\n",
       "      <td>Kindle Edition</td>\n",
       "      <td>₹125.58</td>\n",
       "      <td>4.6 out of 5 stars</td>\n",
       "      <td>12,225</td>\n",
       "    </tr>\n",
       "    <tr>\n",
       "      <th>45</th>\n",
       "      <td>Aurangzeb: The Man and the Myth</td>\n",
       "      <td>Audrey Truschke</td>\n",
       "      <td>https://amazon.in/Aurangzeb-Man-Myth-Audrey-Tr...</td>\n",
       "      <td>Paperback</td>\n",
       "      <td>₹194.00</td>\n",
       "      <td>4.3 out of 5 stars</td>\n",
       "      <td>934</td>\n",
       "    </tr>\n",
       "    <tr>\n",
       "      <th>46</th>\n",
       "      <td>A Game of Thrones (Reissue): Book 1 (A Song of...</td>\n",
       "      <td>George R.R. Martin</td>\n",
       "      <td>https://amazon.in/Game-Thrones-Reissue-Song-Fi...</td>\n",
       "      <td>Paperback</td>\n",
       "      <td>₹454.00</td>\n",
       "      <td>4.6 out of 5 stars</td>\n",
       "      <td>22,836</td>\n",
       "    </tr>\n",
       "    <tr>\n",
       "      <th>47</th>\n",
       "      <td>Sarkari Shaitaan: Devraj Chauhan (Hindi Edition)</td>\n",
       "      <td>Anil  Mohan</td>\n",
       "      <td>https://amazon.in/Sarkari-Shaitaan-Devraj-Chau...</td>\n",
       "      <td>Kindle Edition</td>\n",
       "      <td>₹199.00</td>\n",
       "      <td>4.0 out of 5 stars</td>\n",
       "      <td>5</td>\n",
       "    </tr>\n",
       "    <tr>\n",
       "      <th>48</th>\n",
       "      <td>The Vault of Vishnu, Bharat Series 6</td>\n",
       "      <td>Ashwin Sanghi</td>\n",
       "      <td>https://amazon.in/Vault-Vishnu-Bharat-6/dp/935...</td>\n",
       "      <td>Paperback</td>\n",
       "      <td>₹259.00</td>\n",
       "      <td>4.4 out of 5 stars</td>\n",
       "      <td>1,790</td>\n",
       "    </tr>\n",
       "    <tr>\n",
       "      <th>49</th>\n",
       "      <td>Chanakya's Chant, Bharat Series 2</td>\n",
       "      <td>Ashwin Sanghi</td>\n",
       "      <td>https://amazon.in/Chanakyas-Chant-Bharat-Ashwi...</td>\n",
       "      <td>Paperback</td>\n",
       "      <td>₹259.00</td>\n",
       "      <td>5.0 out of 5 stars</td>\n",
       "      <td>1</td>\n",
       "    </tr>\n",
       "  </tbody>\n",
       "</table>\n",
       "</div>"
      ],
      "text/plain": [
       "                                            Book_Name  \\\n",
       "0            Harry Potter and the Philosopher's Stone   \n",
       "1             Kadhal Kana (காதல் கனா) (Tamil Edition)   \n",
       "2            War of Lanka (Ram Chandra Series Book 4)   \n",
       "3                                  THE SILENT PATIENT   \n",
       "4              The Complete Novels of Sherlock Holmes   \n",
       "5                          Something I Never Told You   \n",
       "6                     On Earth We're Briefly Gorgeous   \n",
       "7                                    The Hidden Hindu   \n",
       "8             Harry Potter and the Chamber of Secrets   \n",
       "9      The Magicians of Mazda Paperback – 21 May 2022   \n",
       "10                                  The Secret Garden   \n",
       "11                Harry Potter and the Goblet of Fire   \n",
       "12           Harry Potter and the Prisoner of Azkaban   \n",
       "13               The 1st Assassin: A Unit 22 Thriller   \n",
       "14       Diary of a Wimpy Kid: The Deep End (Book 15)   \n",
       "15             Harry Potter and the Half-Blood Prince   \n",
       "16          Harry Potter and the Order of the Phoenix   \n",
       "17               Harry Potter and the Deathly Hallows   \n",
       "18               SIX OF CROWS: CROOKED KINGDOM (B PB)   \n",
       "19       பெண் மீன் விழியில் BODYGUARD (Tamil Edition)   \n",
       "20                    அன்புள்ள மாயவனே (Tamil Edition)   \n",
       "21           The Complete Adventures of Feluda Vol. 1   \n",
       "22  THE FINE PRINT: the TikTok sensation! Meet the...   \n",
       "23  SIX OF CROWS: CROOKED KINGDOM(COLLECTOR'S EDIT...   \n",
       "24                             Baby Touch: Tummy Time   \n",
       "25  Whisper to Me Your Lies by Novoneel Chakrabort...   \n",
       "26                            Beach Read (Lead Title)   \n",
       "27            காலங்களில் அவள் வசந்தம் (Tamil Edition)   \n",
       "28  Project Hail Mary: From the bestselling author...   \n",
       "29  A Thousand Kisses Deep: A Romance Thriller Fic...   \n",
       "30           House of Earth and Blood (Crescent City)   \n",
       "31              FAVOURITE STORIES OF COURAGEOUS GIRLS   \n",
       "32           War Of Lanka (Ram Chandra Series Book 4)   \n",
       "33  Harry Potter and the Goblet of Fire: Illustrat...   \n",
       "34            The Magicians Of Mazda: Bharat Series 7   \n",
       "35  The Goods Train Mystery: A Fun Read for 7-12 y...   \n",
       "36                                Midnight's Children   \n",
       "37             The Holiday: NOW A MAJOR NETFLIX DRAMA   \n",
       "38                            The Wind In The Willows   \n",
       "39                             The Enormous Crocodile   \n",
       "40  गर्म बहू: Parents-in law are the new victims o...   \n",
       "41                           THE BOOK OF ICHIGO ICHIE   \n",
       "42  A Game of Thrones: Book 1 of A Song of Ice and...   \n",
       "43  FANTASTIC BEASTS: THE SECRETS OF DUMBLEDORE – ...   \n",
       "44  The Book Thief: TikTok made me buy it! The lif...   \n",
       "45                    Aurangzeb: The Man and the Myth   \n",
       "46  A Game of Thrones (Reissue): Book 1 (A Song of...   \n",
       "47   Sarkari Shaitaan: Devraj Chauhan (Hindi Edition)   \n",
       "48               The Vault of Vishnu, Bharat Series 6   \n",
       "49                  Chanakya's Chant, Bharat Series 2   \n",
       "\n",
       "                Author_Name  \\\n",
       "0              J.K. Rowling   \n",
       "1                Rishi ரிஷி   \n",
       "2            Amish Tripathi   \n",
       "3          Alex Michaelides   \n",
       "4        Arthur Conan Doyle   \n",
       "5           Shravya Bhinder   \n",
       "6               Ocean Vuong   \n",
       "7              Akshat Gupta   \n",
       "8              J.K. Rowling   \n",
       "9             Ashwin Sanghi   \n",
       "10  Frances Hodgson Burnett   \n",
       "11             J.K. Rowling   \n",
       "12             J.K. Rowling   \n",
       "13              Mainak Dhar   \n",
       "14              Jeff Kinney   \n",
       "15             J.K. Rowling   \n",
       "16             J.K. Rowling   \n",
       "17             J.K. Rowling   \n",
       "18            Leigh Bardugo   \n",
       "19                 Mithra E   \n",
       "20                ammu yoga   \n",
       "21             Satyajit Ray   \n",
       "22             Lauren Asher   \n",
       "23            Leigh Bardugo   \n",
       "24                 Ladybird   \n",
       "25     Novoneel Chakraborty   \n",
       "26              Emily Henry   \n",
       "27            Sashi  Murali   \n",
       "28                Andy Weir   \n",
       "29     Novoneel Chakraborty   \n",
       "30            Sarah J. Maas   \n",
       "31        Louisa May Alcott   \n",
       "32           Amish Tripathi   \n",
       "33             J.K. Rowling   \n",
       "34            Ashwin Sanghi   \n",
       "35          Nalini Varanasi   \n",
       "36           Salman Rushdie   \n",
       "37               T.M. Logan   \n",
       "38          Kenneth Grahame   \n",
       "39               Roald Dahl   \n",
       "40        Chander  Malhotra   \n",
       "41        Francesc Miralles   \n",
       "42              Roy Dotrice   \n",
       "43             J.K. Rowling   \n",
       "44             Markus Zusak   \n",
       "45          Audrey Truschke   \n",
       "46       George R.R. Martin   \n",
       "47              Anil  Mohan   \n",
       "48            Ashwin Sanghi   \n",
       "49            Ashwin Sanghi   \n",
       "\n",
       "                                             Book_URL          Book_Type  \\\n",
       "0   https://amazon.in/Harry-Potter-Philosophers-St...     Kindle Edition   \n",
       "1   https://amazon.in/Kadhal-Kana-%E0%AE%95%E0%AE%...     Kindle Edition   \n",
       "2   https://amazon.in/War-Lanka-Ram-Chandra-Book/d...          Paperback   \n",
       "3   https://amazon.in/Silent-Patient-Alex-Michaeli...          Paperback   \n",
       "4   https://amazon.in/Complete-Novels-Sherlock-Hol...          Paperback   \n",
       "5   https://amazon.in/Something-I-Never-Told-You/d...          Paperback   \n",
       "6   https://amazon.in/Earth-Were-Briefly-Gorgeous/...          Paperback   \n",
       "7   https://amazon.in/Hidden-Hindu-Akshat-Gupta/dp...          Paperback   \n",
       "8   https://amazon.in/Harry-Potter-Chamber-Secrets...     Kindle Edition   \n",
       "9   https://amazon.in/Magicians-Mazda-Paperback-21...          Paperback   \n",
       "10  https://amazon.in/Secret-Garden-Frances-Hodgso...          Paperback   \n",
       "11  https://amazon.in/Harry-Potter-Goblet-Fire-Row...     Kindle Edition   \n",
       "12  https://amazon.in/Harry-Potter-Prisoner-Azkaba...     Kindle Edition   \n",
       "13  https://amazon.in/1st-Assassin-Unit-22-Thrille...     Kindle Edition   \n",
       "14  https://amazon.in/Diary-Wimpy-Kid-Deep-Book/dp...          Paperback   \n",
       "15  https://amazon.in/Harry-Potter-Half-Blood-Prin...     Kindle Edition   \n",
       "16  https://amazon.in/Harry-Potter-Order-Phoenix-R...     Kindle Edition   \n",
       "17  https://amazon.in/Harry-Potter-Deathly-Hallows...     Kindle Edition   \n",
       "18  https://amazon.in/Six-Crows-Crooked-Kingdom-Bo...          Paperback   \n",
       "19  https://amazon.in/%E0%AE%AA%E0%AF%86%E0%AE%A3%...     Kindle Edition   \n",
       "20  https://amazon.in/%E0%AE%85%E0%AE%A9%E0%AF%8D%...     Kindle Edition   \n",
       "21  https://amazon.in/Complete-Adventures-Feluda-V...          Paperback   \n",
       "22  https://amazon.in/Fine-Print-sensation-Dreamla...          Paperback   \n",
       "23  https://amazon.in/Crooked-Kingdom-Collectors-S...          Hardcover   \n",
       "24  https://amazon.in/Baby-Touch-Tummy-Time/dp/024...         Board book   \n",
       "25  https://amazon.in/Whisper-Me-Your-Lies-Thrille...          Paperback   \n",
       "26  https://amazon.in/Beach-Read-laugh-out-loud-es...          Paperback   \n",
       "27  https://amazon.in/%E0%AE%95%E0%AE%BE%E0%AE%B2%...     Kindle Edition   \n",
       "28  https://amazon.in/Project-Hail-Mary-bestsellin...          Paperback   \n",
       "29  https://amazon.in/Thousand-Kisses-Deep-Thrille...          Paperback   \n",
       "30  https://amazon.in/House-Earth-Blood-Crescent-C...          Paperback   \n",
       "31  https://amazon.in/Favourite-Stories-Courageous...          Paperback   \n",
       "32  https://amazon.in/War-Lanka-Ram-Chandra-Book-e...     Kindle Edition   \n",
       "33  https://amazon.in/Hp-Goblet-Fire-Ill-ed/dp/140...          Hardcover   \n",
       "34  https://amazon.in/Magicians-Mazda-Bharat-7-ebo...     Kindle Edition   \n",
       "35  https://amazon.in/Goods-Train-Mystery-Read-7-1...          Paperback   \n",
       "36  https://amazon.in/Midnights-Children-Salman-Ru...          Paperback   \n",
       "37  https://amazon.in/Holiday-T-M-Logan-ebook/dp/B...     Kindle Edition   \n",
       "38  https://amazon.in/Wind-Willows-Kenneth-Grahame...          Paperback   \n",
       "39  https://amazon.in/Enormous-Crocodile-Dahl-Fict...          Paperback   \n",
       "40  https://amazon.in/%E0%A4%97%E0%A4%B0%E0%A5%8D%...     Kindle Edition   \n",
       "41  https://amazon.in/Book-Ichigo-Ichie-Making-Jap...          Hardcover   \n",
       "42  https://amazon.in/Game-Thrones-Book-Song-Fire/...  Audible Audiobook   \n",
       "43  https://amazon.in/Fantastic-Beasts-Dumbledore-...          Hardcover   \n",
       "44  https://amazon.in/Book-Thief-10th-Anniversary-...     Kindle Edition   \n",
       "45  https://amazon.in/Aurangzeb-Man-Myth-Audrey-Tr...          Paperback   \n",
       "46  https://amazon.in/Game-Thrones-Reissue-Song-Fi...          Paperback   \n",
       "47  https://amazon.in/Sarkari-Shaitaan-Devraj-Chau...     Kindle Edition   \n",
       "48  https://amazon.in/Vault-Vishnu-Bharat-6/dp/935...          Paperback   \n",
       "49  https://amazon.in/Chanakyas-Chant-Bharat-Ashwi...          Paperback   \n",
       "\n",
       "        Price         Star_Rating  Reviews  \n",
       "0     ₹149.00  4.7 out of 5 stars   51,083  \n",
       "1     ₹110.00  4.3 out of 5 stars       11  \n",
       "2     ₹380.00             Missing  Missing  \n",
       "3     ₹232.00  4.5 out of 5 stars  122,084  \n",
       "4     ₹131.00  4.5 out of 5 stars   14,260  \n",
       "5     ₹138.00  4.3 out of 5 stars    1,982  \n",
       "6     ₹224.00  4.4 out of 5 stars    9,882  \n",
       "7     ₹172.00  4.4 out of 5 stars      450  \n",
       "8     ₹170.00  4.7 out of 5 stars   39,463  \n",
       "9     ₹308.00  4.5 out of 5 stars      923  \n",
       "10    ₹118.00  4.4 out of 5 stars   11,336  \n",
       "11    ₹105.00  4.7 out of 5 stars   29,882  \n",
       "12    ₹105.00  4.7 out of 5 stars   33,050  \n",
       "13     ₹99.00  4.6 out of 5 stars       30  \n",
       "14    ₹227.50  4.7 out of 5 stars    7,730  \n",
       "15    ₹111.00  4.7 out of 5 stars   31,916  \n",
       "16    ₹111.00  4.7 out of 5 stars   27,627  \n",
       "17    ₹105.00  4.7 out of 5 stars   34,490  \n",
       "18    ₹359.00  4.7 out of 5 stars   22,087  \n",
       "19  ₹1,299.00  3.8 out of 5 stars       25  \n",
       "20    ₹449.00  4.3 out of 5 stars      137  \n",
       "21    ₹334.00  4.7 out of 5 stars      932  \n",
       "22    ₹193.00  4.3 out of 5 stars   12,212  \n",
       "23    ₹594.00  4.7 out of 5 stars   22,087  \n",
       "24    ₹329.00  4.5 out of 5 stars    1,281  \n",
       "25    ₹139.00  4.6 out of 5 stars      419  \n",
       "26    ₹259.00  4.2 out of 5 stars   36,755  \n",
       "27    ₹761.00  4.5 out of 5 stars      419  \n",
       "28    ₹404.00  4.7 out of 5 stars   77,350  \n",
       "29    ₹139.00  4.4 out of 5 stars       40  \n",
       "30    ₹517.00  4.7 out of 5 stars   34,794  \n",
       "31    ₹366.00  4.4 out of 5 stars      262  \n",
       "32    ₹279.30             Missing  Missing  \n",
       "33    ₹904.00  4.8 out of 5 stars   23,697  \n",
       "34    ₹252.00  4.5 out of 5 stars      923  \n",
       "35     ₹89.00  4.0 out of 5 stars        8  \n",
       "36    ₹328.00  4.4 out of 5 stars    2,884  \n",
       "37    ₹249.85  4.2 out of 5 stars   14,297  \n",
       "38     ₹99.00  4.4 out of 5 stars    5,614  \n",
       "39    ₹230.93  4.6 out of 5 stars    3,713  \n",
       "40    ₹150.00  3.5 out of 5 stars        2  \n",
       "41    ₹323.00  4.6 out of 5 stars    1,284  \n",
       "42  ₹1,025.00  4.6 out of 5 stars   22,836  \n",
       "43    ₹584.35  4.6 out of 5 stars      226  \n",
       "44    ₹125.58  4.6 out of 5 stars   12,225  \n",
       "45    ₹194.00  4.3 out of 5 stars      934  \n",
       "46    ₹454.00  4.6 out of 5 stars   22,836  \n",
       "47    ₹199.00  4.0 out of 5 stars        5  \n",
       "48    ₹259.00  4.4 out of 5 stars    1,790  \n",
       "49    ₹259.00  5.0 out of 5 stars        1  "
      ]
     },
     "execution_count": 53,
     "metadata": {},
     "output_type": "execute_result"
    }
   ],
   "source": [
    "genre_books_df = pd.DataFrame(genre_books_dict)\n",
    "genre_books_df"
   ]
  },
  {
   "cell_type": "code",
   "execution_count": 54,
   "metadata": {},
   "outputs": [],
   "source": [
    "def get_genre_page(genre_url):\n",
    "    #Download Page\n",
    "    response = requests.get(genre_url)\n",
    "    #Check page status\n",
    "    if response.status_code != 200:\n",
    "        raise Exception('Failed to load page {}'.format(genre_url))\n",
    "    #Parsing Beautiful Soup\n",
    "    genre_doc = BeautifulSoup(response.text, 'html.parser')\n",
    "    return genre_doc"
   ]
  },
  {
   "cell_type": "code",
   "execution_count": 55,
   "metadata": {},
   "outputs": [],
   "source": [
    "def genre_books_info(div_tags):\n",
    "    # Tag for the Book Name\n",
    "    Book_Name_tags = div_tags.find('span')\n",
    "    \n",
    "    # Tag for the Author's Name\n",
    "    Author_Name_tags = div_tags.find(['a', 'span'], class_ = ['a-size-small a-link-child', 'a-size-small a-color-base'])\n",
    "    \n",
    "    # Book URL\n",
    "    Book_URL = 'https://amazon.in' + div_tags.find('a', class_ = 'a-link-normal')['href']\n",
    "    \n",
    "    # Tag for the Book Type\n",
    "    Book_Type_tags = div_tags.find('span', class_ = 'a-size-small a-color-secondary a-text-normal')\n",
    "    \n",
    "    # Tag for Book Price\n",
    "    Price_tags = div_tags.find('span', class_ = 'p13n-sc-price')\n",
    "    \n",
    "    # Tag for the number of stars\n",
    "    Star_Rating_tags = div_tags.find('span', class_ = 'a-icon-alt')\n",
    "    # Tag for the number of reviews\n",
    "    Reviews_tags = div_tags.find('div', class_ = 'a-icon-row')\n",
    "    \n",
    "    return Book_Name_tags, Author_Name_tags, Book_URL, Book_Type_tags, Price_tags, Star_Rating_tags, Reviews_tags"
   ]
  },
  {
   "cell_type": "code",
   "execution_count": 56,
   "metadata": {},
   "outputs": [],
   "source": [
    "def get_genre_books(genre_doc):\n",
    "    #Selecting parent tag which contains the book info\n",
    "    div_selection_class = 'zg-grid-general-faceout'\n",
    "    div_tags = genre_doc.find_all('div', class_ = div_selection_class )\n",
    "    # Creating dictionary of the book attributes\n",
    "    genre_books_dict = {\n",
    "    'Book_Name':[],\n",
    "    'Author_Name':[],\n",
    "    'Book_URL':[],\n",
    "    'Book_Type':[],\n",
    "    'Price':[],\n",
    "    'Star_Rating':[],\n",
    "    'Reviews':[]\n",
    "    }\n",
    "    #Creating the list of book ttributes\n",
    "    for i in range(0, len(div_tags)):\n",
    "        genre_info = genre_books_info(div_tags[i])\n",
    "        if genre_info[0] is not None:\n",
    "            genre_books_dict['Book_Name'].append(genre_info[0].text)\n",
    "        else:\n",
    "            genre_books_dict['Book_Name'].append('Missing')\n",
    "\n",
    "        if genre_info[1] is not None:\n",
    "            genre_books_dict['Author_Name'].append(genre_info[1].text)\n",
    "        else:\n",
    "            genre_books_dict['Author_Name'].append('Missing')\n",
    "\n",
    "        if genre_info[2] is not None:\n",
    "            genre_books_dict['Book_URL'].append(genre_info[2])\n",
    "        else:\n",
    "            genre_books_dict['Book_URL'].append('Missing')\n",
    "\n",
    "        if genre_info[3] is not None:\n",
    "            genre_books_dict['Book_Type'].append(genre_info[3].text)\n",
    "        else:\n",
    "            genre_books_dict['Book_Type'].append('Missing')\n",
    "        if genre_info[4] is not None:\n",
    "            genre_books_dict['Price'].append(genre_info[4].text)\n",
    "        else:\n",
    "            genre_books_dict['Price'].append('Missing')\n",
    "\n",
    "        if genre_info[5] is not None:\n",
    "            genre_books_dict['Star_Rating'].append(genre_info[5].text)\n",
    "        else:\n",
    "            genre_books_dict['Star_Rating'].append('Missing')\n",
    "        # Applying extra find as at the time of writing for one book reviews were not availabe    \n",
    "        if genre_info[6] is not None:\n",
    "            genre_books_dict['Reviews'].append(genre_info[6].find('span', class_ = 'a-size-small').text)\n",
    "        else:\n",
    "            genre_books_dict['Reviews'].append('Missing')\n",
    "            \n",
    "    return pd.DataFrame(genre_books_dict)    "
   ]
  },
  {
   "cell_type": "code",
   "execution_count": 57,
   "metadata": {},
   "outputs": [],
   "source": [
    "def scrape_genre(genre_ulr, path):\n",
    "    #Stopping the function to create the already exiting file\n",
    "    if os.path.exists(path):\n",
    "        print('The file {} already exists.. Skipping...'.format(path))\n",
    "        return\n",
    "    #Creating dataframe with genre_titles and genre_urls columns\n",
    "    genre_df = get_genre_books(get_genre_page(genre_ulr))\n",
    "    #Saving the dataframe to csv format\n",
    "    genre_df.to_csv(path, index = None)"
   ]
  },
  {
   "cell_type": "code",
   "execution_count": 58,
   "metadata": {},
   "outputs": [],
   "source": [
    "def get_genre_info(doc):\n",
    "    #Selecting a parent tag\n",
    "    div_selection_class = '_p13n-zg-nav-tree-all_style_zg-browse-group__88fbz'\n",
    "    genre_div_tags = doc.find_all('div', class_ = div_selection_class)\n",
    "    \n",
    "    #Selecting a useful tag out of the parent tag\n",
    "    genre_tags = genre_div_tags[0].find_all('a')\n",
    "    \n",
    "    #List for genre_titles\n",
    "    genre_titles = []\n",
    "\n",
    "    for i in range(0, len(genre_tags)):\n",
    "        genre_titles.append(genre_tags[i].text)\n",
    "        \n",
    "    #List for genre_urls\n",
    "    genre_urls = []\n",
    "    base_url = 'https://www.amazon.in'\n",
    "    \n",
    "    \n",
    "    for i in range(0, len(genre_tags)):\n",
    "        genre_urls.append(base_url + genre_tags[i]['href'])\n",
    "    return genre_titles, genre_urls"
   ]
  },
  {
   "cell_type": "code",
   "execution_count": 59,
   "metadata": {},
   "outputs": [],
   "source": [
    "def scrape_genres():\n",
    "    #Using request library to fetch the books genres\n",
    "    genre_url = 'https://www.amazon.in/gp/bestsellers/books/'\n",
    "    response = requests.get(genre_url)\n",
    "    \n",
    "    #Check the page requests success\n",
    "    if response.status_code != 200:\n",
    "        raise Exception('Failed to load page {}'.format(genre_url))\n",
    "    \n",
    "    #Creating a BeautifulSoup object\n",
    "    doc = BeautifulSoup(response.text, 'html.parser')\n",
    "    \n",
    "    #Dictionary to which lists from get_genre_info are passed\n",
    "    genre_dic = {\n",
    "        'genre_titles': get_genre_info(doc)[0],\n",
    "        'genre_urls':get_genre_info(doc)[1]\n",
    "    }\n",
    "    return pd.DataFrame(genre_dic)"
   ]
  },
  {
   "cell_type": "code",
   "execution_count": 60,
   "metadata": {},
   "outputs": [],
   "source": [
    "def scrape_genre_books():\n",
    "    print('Scraping list of book genres')\n",
    "    # Scraping the genre_titles and genre_urls\n",
    "    genres_df = scrape_genres()\n",
    "    # Creating a 'data' folder\n",
    "    os.makedirs('data', exist_ok = True)\n",
    "    # Looping to extract the genre_title and the genre_url\n",
    "    for index, row in genres_df.iterrows():\n",
    "        print('Scraping bestselling books for the genre {}'. format(row['genre_titles']))\n",
    "        # Inputing genre_url and path to save the file to scrape_genre.\n",
    "        scrape_genre(row['genre_urls'], 'data/{}.csv'.format(row['genre_titles']))"
   ]
  },
  {
   "cell_type": "code",
   "execution_count": 64,
   "metadata": {},
   "outputs": [
    {
     "name": "stdout",
     "output_type": "stream",
     "text": [
      "Scraping list of book genres\n",
      "Scraping bestselling books for the genre Action & Adventure\n",
      "The file data/Action & Adventure.csv already exists.. Skipping...\n",
      "Scraping bestselling books for the genre Arts, Film & Photography\n",
      "The file data/Arts, Film & Photography.csv already exists.. Skipping...\n",
      "Scraping bestselling books for the genre Biographies, Diaries & True Accounts\n",
      "The file data/Biographies, Diaries & True Accounts.csv already exists.. Skipping...\n",
      "Scraping bestselling books for the genre Business & Economics\n",
      "The file data/Business & Economics.csv already exists.. Skipping...\n",
      "Scraping bestselling books for the genre Children's & Young Adult\n",
      "The file data/Children's & Young Adult.csv already exists.. Skipping...\n",
      "Scraping bestselling books for the genre Comics & Mangas\n",
      "The file data/Comics & Mangas.csv already exists.. Skipping...\n",
      "Scraping bestselling books for the genre Computing, Internet & Digital Media\n",
      "The file data/Computing, Internet & Digital Media.csv already exists.. Skipping...\n",
      "Scraping bestselling books for the genre Crafts, Home & Lifestyle\n",
      "The file data/Crafts, Home & Lifestyle.csv already exists.. Skipping...\n",
      "Scraping bestselling books for the genre Crime, Thriller & Mystery\n",
      "The file data/Crime, Thriller & Mystery.csv already exists.. Skipping...\n",
      "Scraping bestselling books for the genre Engineering\n",
      "The file data/Engineering.csv already exists.. Skipping...\n",
      "Scraping bestselling books for the genre Exam Preparation\n",
      "The file data/Exam Preparation.csv already exists.. Skipping...\n",
      "Scraping bestselling books for the genre Fantasy, Horror & Science Fiction\n",
      "The file data/Fantasy, Horror & Science Fiction.csv already exists.. Skipping...\n",
      "Scraping bestselling books for the genre Health, Family & Personal Development\n",
      "The file data/Health, Family & Personal Development.csv already exists.. Skipping...\n",
      "Scraping bestselling books for the genre Health, Fitness & Nutrition\n",
      "The file data/Health, Fitness & Nutrition.csv already exists.. Skipping...\n",
      "Scraping bestselling books for the genre Higher Education Textbooks\n",
      "The file data/Higher Education Textbooks.csv already exists.. Skipping...\n",
      "Scraping bestselling books for the genre Historical Fiction\n",
      "The file data/Historical Fiction.csv already exists.. Skipping...\n",
      "Scraping bestselling books for the genre History\n",
      "The file data/History.csv already exists.. Skipping...\n",
      "Scraping bestselling books for the genre Humour\n",
      "The file data/Humour.csv already exists.. Skipping...\n",
      "Scraping bestselling books for the genre Language, Linguistics & Writing\n",
      "The file data/Language, Linguistics & Writing.csv already exists.. Skipping...\n",
      "Scraping bestselling books for the genre Law\n",
      "The file data/Law.csv already exists.. Skipping...\n",
      "Scraping bestselling books for the genre Literature & Fiction\n",
      "The file data/Literature & Fiction.csv already exists.. Skipping...\n",
      "Scraping bestselling books for the genre Maps & Atlases\n",
      "The file data/Maps & Atlases.csv already exists.. Skipping...\n",
      "Scraping bestselling books for the genre Medicine & Health Sciences\n",
      "The file data/Medicine & Health Sciences.csv already exists.. Skipping...\n",
      "Scraping bestselling books for the genre Politics\n",
      "The file data/Politics.csv already exists.. Skipping...\n",
      "Scraping bestselling books for the genre Reference\n",
      "The file data/Reference.csv already exists.. Skipping...\n",
      "Scraping bestselling books for the genre Religion\n",
      "Scraping bestselling books for the genre Romance\n",
      "Scraping bestselling books for the genre School Books\n",
      "Scraping bestselling books for the genre Science & Mathematics\n",
      "Scraping bestselling books for the genre Sciences, Technology & Medicine\n",
      "Scraping bestselling books for the genre Society & Social Sciences\n",
      "Scraping bestselling books for the genre Sports\n",
      "Scraping bestselling books for the genre Textbooks & Study Guides\n",
      "Scraping bestselling books for the genre Travel\n"
     ]
    }
   ],
   "source": [
    "scrape_genre_books()"
   ]
  },
  {
   "cell_type": "code",
   "execution_count": null,
   "metadata": {},
   "outputs": [],
   "source": []
  },
  {
   "cell_type": "code",
   "execution_count": null,
   "metadata": {},
   "outputs": [],
   "source": []
  },
  {
   "cell_type": "code",
   "execution_count": null,
   "metadata": {},
   "outputs": [],
   "source": [
    "import jovian"
   ]
  },
  {
   "cell_type": "code",
   "execution_count": null,
   "metadata": {},
   "outputs": [],
   "source": []
  },
  {
   "cell_type": "code",
   "execution_count": null,
   "metadata": {},
   "outputs": [],
   "source": []
  },
  {
   "cell_type": "code",
   "execution_count": null,
   "metadata": {},
   "outputs": [],
   "source": []
  },
  {
   "cell_type": "code",
   "execution_count": null,
   "metadata": {},
   "outputs": [],
   "source": []
  },
  {
   "cell_type": "code",
   "execution_count": null,
   "metadata": {},
   "outputs": [],
   "source": []
  },
  {
   "cell_type": "code",
   "execution_count": null,
   "metadata": {},
   "outputs": [],
   "source": []
  },
  {
   "cell_type": "code",
   "execution_count": null,
   "metadata": {},
   "outputs": [],
   "source": [
    "# Execute this to save new versions of the notebook\n",
    "jovian.commit(project=\"nannn\")"
   ]
  },
  {
   "cell_type": "code",
   "execution_count": null,
   "metadata": {},
   "outputs": [],
   "source": []
  }
 ],
 "metadata": {
  "kernelspec": {
   "display_name": "Python 3 (ipykernel)",
   "language": "python",
   "name": "python3"
  },
  "language_info": {
   "codemirror_mode": {
    "name": "ipython",
    "version": 3
   },
   "file_extension": ".py",
   "mimetype": "text/x-python",
   "name": "python",
   "nbconvert_exporter": "python",
   "pygments_lexer": "ipython3",
   "version": "3.9.6"
  }
 },
 "nbformat": 4,
 "nbformat_minor": 2
}
